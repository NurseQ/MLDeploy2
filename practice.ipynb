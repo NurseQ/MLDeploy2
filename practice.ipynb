{
 "cells": [
  {
   "cell_type": "code",
   "execution_count": 1,
   "id": "88e20c3a",
   "metadata": {},
   "outputs": [],
   "source": [
    "import pandas as pd\n",
    "import numpy as np\n",
    "import matplotlib.pyplot as plt\n"
   ]
  },
  {
   "cell_type": "code",
   "execution_count": 2,
   "id": "110e1acb",
   "metadata": {},
   "outputs": [],
   "source": [
    "from sklearn.model_selection import train_test_split\n",
    "from sklearn.preprocessing import MinMaxScaler, Binarizer\n",
    "\n",
    "from feature_engine.imputation import (\n",
    "        AddMissingIndicator,\n",
    "        MeanMedianImputer,\n",
    "        CategoricalImputer)\n",
    "\n",
    "from feature_engine.encoding import (\n",
    "        RareLabelEncoder,\n",
    "        OrdinalEncoder)\n",
    "\n",
    "from feature_engine.transformation import (\n",
    "        LogTransformer,\n",
    "        YeoJohnsonTransformer)\n",
    "\n",
    "from feature_engine.selection import DropFeatures\n",
    "from feature_engine.wrappers import SklearnTransformerWrapper\n",
    "\n",
    "pd.pandas.set_option('display.max_columns', None)\n"
   ]
  },
  {
   "cell_type": "code",
   "execution_count": 3,
   "id": "4deaf392",
   "metadata": {},
   "outputs": [
    {
     "name": "stdout",
     "output_type": "stream",
     "text": [
      "(2930, 82)\n"
     ]
    },
    {
     "data": {
      "text/html": [
       "<div>\n",
       "<style scoped>\n",
       "    .dataframe tbody tr th:only-of-type {\n",
       "        vertical-align: middle;\n",
       "    }\n",
       "\n",
       "    .dataframe tbody tr th {\n",
       "        vertical-align: top;\n",
       "    }\n",
       "\n",
       "    .dataframe thead th {\n",
       "        text-align: right;\n",
       "    }\n",
       "</style>\n",
       "<table border=\"1\" class=\"dataframe\">\n",
       "  <thead>\n",
       "    <tr style=\"text-align: right;\">\n",
       "      <th></th>\n",
       "      <th>Order</th>\n",
       "      <th>PID</th>\n",
       "      <th>MS SubClass</th>\n",
       "      <th>MS Zoning</th>\n",
       "      <th>Lot Frontage</th>\n",
       "      <th>Lot Area</th>\n",
       "      <th>Street</th>\n",
       "      <th>Alley</th>\n",
       "      <th>Lot Shape</th>\n",
       "      <th>Land Contour</th>\n",
       "      <th>Utilities</th>\n",
       "      <th>Lot Config</th>\n",
       "      <th>Land Slope</th>\n",
       "      <th>Neighborhood</th>\n",
       "      <th>Condition 1</th>\n",
       "      <th>Condition 2</th>\n",
       "      <th>Bldg Type</th>\n",
       "      <th>House Style</th>\n",
       "      <th>Overall Qual</th>\n",
       "      <th>Overall Cond</th>\n",
       "      <th>Year Built</th>\n",
       "      <th>Year Remod/Add</th>\n",
       "      <th>Roof Style</th>\n",
       "      <th>Roof Matl</th>\n",
       "      <th>Exterior 1st</th>\n",
       "      <th>Exterior 2nd</th>\n",
       "      <th>Mas Vnr Type</th>\n",
       "      <th>Mas Vnr Area</th>\n",
       "      <th>Exter Qual</th>\n",
       "      <th>Exter Cond</th>\n",
       "      <th>Foundation</th>\n",
       "      <th>Bsmt Qual</th>\n",
       "      <th>Bsmt Cond</th>\n",
       "      <th>Bsmt Exposure</th>\n",
       "      <th>BsmtFin Type 1</th>\n",
       "      <th>BsmtFin SF 1</th>\n",
       "      <th>BsmtFin Type 2</th>\n",
       "      <th>BsmtFin SF 2</th>\n",
       "      <th>Bsmt Unf SF</th>\n",
       "      <th>Total Bsmt SF</th>\n",
       "      <th>Heating</th>\n",
       "      <th>Heating QC</th>\n",
       "      <th>Central Air</th>\n",
       "      <th>Electrical</th>\n",
       "      <th>1st Flr SF</th>\n",
       "      <th>2nd Flr SF</th>\n",
       "      <th>Low Qual Fin SF</th>\n",
       "      <th>Gr Liv Area</th>\n",
       "      <th>Bsmt Full Bath</th>\n",
       "      <th>Bsmt Half Bath</th>\n",
       "      <th>Full Bath</th>\n",
       "      <th>Half Bath</th>\n",
       "      <th>Bedroom AbvGr</th>\n",
       "      <th>Kitchen AbvGr</th>\n",
       "      <th>Kitchen Qual</th>\n",
       "      <th>TotRms AbvGrd</th>\n",
       "      <th>Functional</th>\n",
       "      <th>Fireplaces</th>\n",
       "      <th>Fireplace Qu</th>\n",
       "      <th>Garage Type</th>\n",
       "      <th>Garage Yr Blt</th>\n",
       "      <th>Garage Finish</th>\n",
       "      <th>Garage Cars</th>\n",
       "      <th>Garage Area</th>\n",
       "      <th>Garage Qual</th>\n",
       "      <th>Garage Cond</th>\n",
       "      <th>Paved Drive</th>\n",
       "      <th>Wood Deck SF</th>\n",
       "      <th>Open Porch SF</th>\n",
       "      <th>Enclosed Porch</th>\n",
       "      <th>3Ssn Porch</th>\n",
       "      <th>Screen Porch</th>\n",
       "      <th>Pool Area</th>\n",
       "      <th>Pool QC</th>\n",
       "      <th>Fence</th>\n",
       "      <th>Misc Feature</th>\n",
       "      <th>Misc Val</th>\n",
       "      <th>Mo Sold</th>\n",
       "      <th>Yr Sold</th>\n",
       "      <th>Sale Type</th>\n",
       "      <th>Sale Condition</th>\n",
       "      <th>SalePrice</th>\n",
       "    </tr>\n",
       "  </thead>\n",
       "  <tbody>\n",
       "    <tr>\n",
       "      <th>0</th>\n",
       "      <td>1</td>\n",
       "      <td>526301100</td>\n",
       "      <td>20</td>\n",
       "      <td>RL</td>\n",
       "      <td>141.0</td>\n",
       "      <td>31770</td>\n",
       "      <td>Pave</td>\n",
       "      <td>NaN</td>\n",
       "      <td>IR1</td>\n",
       "      <td>Lvl</td>\n",
       "      <td>AllPub</td>\n",
       "      <td>Corner</td>\n",
       "      <td>Gtl</td>\n",
       "      <td>NAmes</td>\n",
       "      <td>Norm</td>\n",
       "      <td>Norm</td>\n",
       "      <td>1Fam</td>\n",
       "      <td>1Story</td>\n",
       "      <td>6</td>\n",
       "      <td>5</td>\n",
       "      <td>1960</td>\n",
       "      <td>1960</td>\n",
       "      <td>Hip</td>\n",
       "      <td>CompShg</td>\n",
       "      <td>BrkFace</td>\n",
       "      <td>Plywood</td>\n",
       "      <td>Stone</td>\n",
       "      <td>112.0</td>\n",
       "      <td>TA</td>\n",
       "      <td>TA</td>\n",
       "      <td>CBlock</td>\n",
       "      <td>TA</td>\n",
       "      <td>Gd</td>\n",
       "      <td>Gd</td>\n",
       "      <td>BLQ</td>\n",
       "      <td>639.0</td>\n",
       "      <td>Unf</td>\n",
       "      <td>0.0</td>\n",
       "      <td>441.0</td>\n",
       "      <td>1080.0</td>\n",
       "      <td>GasA</td>\n",
       "      <td>Fa</td>\n",
       "      <td>Y</td>\n",
       "      <td>SBrkr</td>\n",
       "      <td>1656</td>\n",
       "      <td>0</td>\n",
       "      <td>0</td>\n",
       "      <td>1656</td>\n",
       "      <td>1.0</td>\n",
       "      <td>0.0</td>\n",
       "      <td>1</td>\n",
       "      <td>0</td>\n",
       "      <td>3</td>\n",
       "      <td>1</td>\n",
       "      <td>TA</td>\n",
       "      <td>7</td>\n",
       "      <td>Typ</td>\n",
       "      <td>2</td>\n",
       "      <td>Gd</td>\n",
       "      <td>Attchd</td>\n",
       "      <td>1960.0</td>\n",
       "      <td>Fin</td>\n",
       "      <td>2.0</td>\n",
       "      <td>528.0</td>\n",
       "      <td>TA</td>\n",
       "      <td>TA</td>\n",
       "      <td>P</td>\n",
       "      <td>210</td>\n",
       "      <td>62</td>\n",
       "      <td>0</td>\n",
       "      <td>0</td>\n",
       "      <td>0</td>\n",
       "      <td>0</td>\n",
       "      <td>NaN</td>\n",
       "      <td>NaN</td>\n",
       "      <td>NaN</td>\n",
       "      <td>0</td>\n",
       "      <td>5</td>\n",
       "      <td>2010</td>\n",
       "      <td>WD</td>\n",
       "      <td>Normal</td>\n",
       "      <td>215000</td>\n",
       "    </tr>\n",
       "    <tr>\n",
       "      <th>1</th>\n",
       "      <td>2</td>\n",
       "      <td>526350040</td>\n",
       "      <td>20</td>\n",
       "      <td>RH</td>\n",
       "      <td>80.0</td>\n",
       "      <td>11622</td>\n",
       "      <td>Pave</td>\n",
       "      <td>NaN</td>\n",
       "      <td>Reg</td>\n",
       "      <td>Lvl</td>\n",
       "      <td>AllPub</td>\n",
       "      <td>Inside</td>\n",
       "      <td>Gtl</td>\n",
       "      <td>NAmes</td>\n",
       "      <td>Feedr</td>\n",
       "      <td>Norm</td>\n",
       "      <td>1Fam</td>\n",
       "      <td>1Story</td>\n",
       "      <td>5</td>\n",
       "      <td>6</td>\n",
       "      <td>1961</td>\n",
       "      <td>1961</td>\n",
       "      <td>Gable</td>\n",
       "      <td>CompShg</td>\n",
       "      <td>VinylSd</td>\n",
       "      <td>VinylSd</td>\n",
       "      <td>None</td>\n",
       "      <td>0.0</td>\n",
       "      <td>TA</td>\n",
       "      <td>TA</td>\n",
       "      <td>CBlock</td>\n",
       "      <td>TA</td>\n",
       "      <td>TA</td>\n",
       "      <td>No</td>\n",
       "      <td>Rec</td>\n",
       "      <td>468.0</td>\n",
       "      <td>LwQ</td>\n",
       "      <td>144.0</td>\n",
       "      <td>270.0</td>\n",
       "      <td>882.0</td>\n",
       "      <td>GasA</td>\n",
       "      <td>TA</td>\n",
       "      <td>Y</td>\n",
       "      <td>SBrkr</td>\n",
       "      <td>896</td>\n",
       "      <td>0</td>\n",
       "      <td>0</td>\n",
       "      <td>896</td>\n",
       "      <td>0.0</td>\n",
       "      <td>0.0</td>\n",
       "      <td>1</td>\n",
       "      <td>0</td>\n",
       "      <td>2</td>\n",
       "      <td>1</td>\n",
       "      <td>TA</td>\n",
       "      <td>5</td>\n",
       "      <td>Typ</td>\n",
       "      <td>0</td>\n",
       "      <td>NaN</td>\n",
       "      <td>Attchd</td>\n",
       "      <td>1961.0</td>\n",
       "      <td>Unf</td>\n",
       "      <td>1.0</td>\n",
       "      <td>730.0</td>\n",
       "      <td>TA</td>\n",
       "      <td>TA</td>\n",
       "      <td>Y</td>\n",
       "      <td>140</td>\n",
       "      <td>0</td>\n",
       "      <td>0</td>\n",
       "      <td>0</td>\n",
       "      <td>120</td>\n",
       "      <td>0</td>\n",
       "      <td>NaN</td>\n",
       "      <td>MnPrv</td>\n",
       "      <td>NaN</td>\n",
       "      <td>0</td>\n",
       "      <td>6</td>\n",
       "      <td>2010</td>\n",
       "      <td>WD</td>\n",
       "      <td>Normal</td>\n",
       "      <td>105000</td>\n",
       "    </tr>\n",
       "    <tr>\n",
       "      <th>2</th>\n",
       "      <td>3</td>\n",
       "      <td>526351010</td>\n",
       "      <td>20</td>\n",
       "      <td>RL</td>\n",
       "      <td>81.0</td>\n",
       "      <td>14267</td>\n",
       "      <td>Pave</td>\n",
       "      <td>NaN</td>\n",
       "      <td>IR1</td>\n",
       "      <td>Lvl</td>\n",
       "      <td>AllPub</td>\n",
       "      <td>Corner</td>\n",
       "      <td>Gtl</td>\n",
       "      <td>NAmes</td>\n",
       "      <td>Norm</td>\n",
       "      <td>Norm</td>\n",
       "      <td>1Fam</td>\n",
       "      <td>1Story</td>\n",
       "      <td>6</td>\n",
       "      <td>6</td>\n",
       "      <td>1958</td>\n",
       "      <td>1958</td>\n",
       "      <td>Hip</td>\n",
       "      <td>CompShg</td>\n",
       "      <td>Wd Sdng</td>\n",
       "      <td>Wd Sdng</td>\n",
       "      <td>BrkFace</td>\n",
       "      <td>108.0</td>\n",
       "      <td>TA</td>\n",
       "      <td>TA</td>\n",
       "      <td>CBlock</td>\n",
       "      <td>TA</td>\n",
       "      <td>TA</td>\n",
       "      <td>No</td>\n",
       "      <td>ALQ</td>\n",
       "      <td>923.0</td>\n",
       "      <td>Unf</td>\n",
       "      <td>0.0</td>\n",
       "      <td>406.0</td>\n",
       "      <td>1329.0</td>\n",
       "      <td>GasA</td>\n",
       "      <td>TA</td>\n",
       "      <td>Y</td>\n",
       "      <td>SBrkr</td>\n",
       "      <td>1329</td>\n",
       "      <td>0</td>\n",
       "      <td>0</td>\n",
       "      <td>1329</td>\n",
       "      <td>0.0</td>\n",
       "      <td>0.0</td>\n",
       "      <td>1</td>\n",
       "      <td>1</td>\n",
       "      <td>3</td>\n",
       "      <td>1</td>\n",
       "      <td>Gd</td>\n",
       "      <td>6</td>\n",
       "      <td>Typ</td>\n",
       "      <td>0</td>\n",
       "      <td>NaN</td>\n",
       "      <td>Attchd</td>\n",
       "      <td>1958.0</td>\n",
       "      <td>Unf</td>\n",
       "      <td>1.0</td>\n",
       "      <td>312.0</td>\n",
       "      <td>TA</td>\n",
       "      <td>TA</td>\n",
       "      <td>Y</td>\n",
       "      <td>393</td>\n",
       "      <td>36</td>\n",
       "      <td>0</td>\n",
       "      <td>0</td>\n",
       "      <td>0</td>\n",
       "      <td>0</td>\n",
       "      <td>NaN</td>\n",
       "      <td>NaN</td>\n",
       "      <td>Gar2</td>\n",
       "      <td>12500</td>\n",
       "      <td>6</td>\n",
       "      <td>2010</td>\n",
       "      <td>WD</td>\n",
       "      <td>Normal</td>\n",
       "      <td>172000</td>\n",
       "    </tr>\n",
       "    <tr>\n",
       "      <th>3</th>\n",
       "      <td>4</td>\n",
       "      <td>526353030</td>\n",
       "      <td>20</td>\n",
       "      <td>RL</td>\n",
       "      <td>93.0</td>\n",
       "      <td>11160</td>\n",
       "      <td>Pave</td>\n",
       "      <td>NaN</td>\n",
       "      <td>Reg</td>\n",
       "      <td>Lvl</td>\n",
       "      <td>AllPub</td>\n",
       "      <td>Corner</td>\n",
       "      <td>Gtl</td>\n",
       "      <td>NAmes</td>\n",
       "      <td>Norm</td>\n",
       "      <td>Norm</td>\n",
       "      <td>1Fam</td>\n",
       "      <td>1Story</td>\n",
       "      <td>7</td>\n",
       "      <td>5</td>\n",
       "      <td>1968</td>\n",
       "      <td>1968</td>\n",
       "      <td>Hip</td>\n",
       "      <td>CompShg</td>\n",
       "      <td>BrkFace</td>\n",
       "      <td>BrkFace</td>\n",
       "      <td>None</td>\n",
       "      <td>0.0</td>\n",
       "      <td>Gd</td>\n",
       "      <td>TA</td>\n",
       "      <td>CBlock</td>\n",
       "      <td>TA</td>\n",
       "      <td>TA</td>\n",
       "      <td>No</td>\n",
       "      <td>ALQ</td>\n",
       "      <td>1065.0</td>\n",
       "      <td>Unf</td>\n",
       "      <td>0.0</td>\n",
       "      <td>1045.0</td>\n",
       "      <td>2110.0</td>\n",
       "      <td>GasA</td>\n",
       "      <td>Ex</td>\n",
       "      <td>Y</td>\n",
       "      <td>SBrkr</td>\n",
       "      <td>2110</td>\n",
       "      <td>0</td>\n",
       "      <td>0</td>\n",
       "      <td>2110</td>\n",
       "      <td>1.0</td>\n",
       "      <td>0.0</td>\n",
       "      <td>2</td>\n",
       "      <td>1</td>\n",
       "      <td>3</td>\n",
       "      <td>1</td>\n",
       "      <td>Ex</td>\n",
       "      <td>8</td>\n",
       "      <td>Typ</td>\n",
       "      <td>2</td>\n",
       "      <td>TA</td>\n",
       "      <td>Attchd</td>\n",
       "      <td>1968.0</td>\n",
       "      <td>Fin</td>\n",
       "      <td>2.0</td>\n",
       "      <td>522.0</td>\n",
       "      <td>TA</td>\n",
       "      <td>TA</td>\n",
       "      <td>Y</td>\n",
       "      <td>0</td>\n",
       "      <td>0</td>\n",
       "      <td>0</td>\n",
       "      <td>0</td>\n",
       "      <td>0</td>\n",
       "      <td>0</td>\n",
       "      <td>NaN</td>\n",
       "      <td>NaN</td>\n",
       "      <td>NaN</td>\n",
       "      <td>0</td>\n",
       "      <td>4</td>\n",
       "      <td>2010</td>\n",
       "      <td>WD</td>\n",
       "      <td>Normal</td>\n",
       "      <td>244000</td>\n",
       "    </tr>\n",
       "    <tr>\n",
       "      <th>4</th>\n",
       "      <td>5</td>\n",
       "      <td>527105010</td>\n",
       "      <td>60</td>\n",
       "      <td>RL</td>\n",
       "      <td>74.0</td>\n",
       "      <td>13830</td>\n",
       "      <td>Pave</td>\n",
       "      <td>NaN</td>\n",
       "      <td>IR1</td>\n",
       "      <td>Lvl</td>\n",
       "      <td>AllPub</td>\n",
       "      <td>Inside</td>\n",
       "      <td>Gtl</td>\n",
       "      <td>Gilbert</td>\n",
       "      <td>Norm</td>\n",
       "      <td>Norm</td>\n",
       "      <td>1Fam</td>\n",
       "      <td>2Story</td>\n",
       "      <td>5</td>\n",
       "      <td>5</td>\n",
       "      <td>1997</td>\n",
       "      <td>1998</td>\n",
       "      <td>Gable</td>\n",
       "      <td>CompShg</td>\n",
       "      <td>VinylSd</td>\n",
       "      <td>VinylSd</td>\n",
       "      <td>None</td>\n",
       "      <td>0.0</td>\n",
       "      <td>TA</td>\n",
       "      <td>TA</td>\n",
       "      <td>PConc</td>\n",
       "      <td>Gd</td>\n",
       "      <td>TA</td>\n",
       "      <td>No</td>\n",
       "      <td>GLQ</td>\n",
       "      <td>791.0</td>\n",
       "      <td>Unf</td>\n",
       "      <td>0.0</td>\n",
       "      <td>137.0</td>\n",
       "      <td>928.0</td>\n",
       "      <td>GasA</td>\n",
       "      <td>Gd</td>\n",
       "      <td>Y</td>\n",
       "      <td>SBrkr</td>\n",
       "      <td>928</td>\n",
       "      <td>701</td>\n",
       "      <td>0</td>\n",
       "      <td>1629</td>\n",
       "      <td>0.0</td>\n",
       "      <td>0.0</td>\n",
       "      <td>2</td>\n",
       "      <td>1</td>\n",
       "      <td>3</td>\n",
       "      <td>1</td>\n",
       "      <td>TA</td>\n",
       "      <td>6</td>\n",
       "      <td>Typ</td>\n",
       "      <td>1</td>\n",
       "      <td>TA</td>\n",
       "      <td>Attchd</td>\n",
       "      <td>1997.0</td>\n",
       "      <td>Fin</td>\n",
       "      <td>2.0</td>\n",
       "      <td>482.0</td>\n",
       "      <td>TA</td>\n",
       "      <td>TA</td>\n",
       "      <td>Y</td>\n",
       "      <td>212</td>\n",
       "      <td>34</td>\n",
       "      <td>0</td>\n",
       "      <td>0</td>\n",
       "      <td>0</td>\n",
       "      <td>0</td>\n",
       "      <td>NaN</td>\n",
       "      <td>MnPrv</td>\n",
       "      <td>NaN</td>\n",
       "      <td>0</td>\n",
       "      <td>3</td>\n",
       "      <td>2010</td>\n",
       "      <td>WD</td>\n",
       "      <td>Normal</td>\n",
       "      <td>189900</td>\n",
       "    </tr>\n",
       "  </tbody>\n",
       "</table>\n",
       "</div>"
      ],
      "text/plain": [
       "   Order        PID  MS SubClass MS Zoning  Lot Frontage  Lot Area Street  \\\n",
       "0      1  526301100           20        RL         141.0     31770   Pave   \n",
       "1      2  526350040           20        RH          80.0     11622   Pave   \n",
       "2      3  526351010           20        RL          81.0     14267   Pave   \n",
       "3      4  526353030           20        RL          93.0     11160   Pave   \n",
       "4      5  527105010           60        RL          74.0     13830   Pave   \n",
       "\n",
       "  Alley Lot Shape Land Contour Utilities Lot Config Land Slope Neighborhood  \\\n",
       "0   NaN       IR1          Lvl    AllPub     Corner        Gtl        NAmes   \n",
       "1   NaN       Reg          Lvl    AllPub     Inside        Gtl        NAmes   \n",
       "2   NaN       IR1          Lvl    AllPub     Corner        Gtl        NAmes   \n",
       "3   NaN       Reg          Lvl    AllPub     Corner        Gtl        NAmes   \n",
       "4   NaN       IR1          Lvl    AllPub     Inside        Gtl      Gilbert   \n",
       "\n",
       "  Condition 1 Condition 2 Bldg Type House Style  Overall Qual  Overall Cond  \\\n",
       "0        Norm        Norm      1Fam      1Story             6             5   \n",
       "1       Feedr        Norm      1Fam      1Story             5             6   \n",
       "2        Norm        Norm      1Fam      1Story             6             6   \n",
       "3        Norm        Norm      1Fam      1Story             7             5   \n",
       "4        Norm        Norm      1Fam      2Story             5             5   \n",
       "\n",
       "   Year Built  Year Remod/Add Roof Style Roof Matl Exterior 1st Exterior 2nd  \\\n",
       "0        1960            1960        Hip   CompShg      BrkFace      Plywood   \n",
       "1        1961            1961      Gable   CompShg      VinylSd      VinylSd   \n",
       "2        1958            1958        Hip   CompShg      Wd Sdng      Wd Sdng   \n",
       "3        1968            1968        Hip   CompShg      BrkFace      BrkFace   \n",
       "4        1997            1998      Gable   CompShg      VinylSd      VinylSd   \n",
       "\n",
       "  Mas Vnr Type  Mas Vnr Area Exter Qual Exter Cond Foundation Bsmt Qual  \\\n",
       "0        Stone         112.0         TA         TA     CBlock        TA   \n",
       "1         None           0.0         TA         TA     CBlock        TA   \n",
       "2      BrkFace         108.0         TA         TA     CBlock        TA   \n",
       "3         None           0.0         Gd         TA     CBlock        TA   \n",
       "4         None           0.0         TA         TA      PConc        Gd   \n",
       "\n",
       "  Bsmt Cond Bsmt Exposure BsmtFin Type 1  BsmtFin SF 1 BsmtFin Type 2  \\\n",
       "0        Gd            Gd            BLQ         639.0            Unf   \n",
       "1        TA            No            Rec         468.0            LwQ   \n",
       "2        TA            No            ALQ         923.0            Unf   \n",
       "3        TA            No            ALQ        1065.0            Unf   \n",
       "4        TA            No            GLQ         791.0            Unf   \n",
       "\n",
       "   BsmtFin SF 2  Bsmt Unf SF  Total Bsmt SF Heating Heating QC Central Air  \\\n",
       "0           0.0        441.0         1080.0    GasA         Fa           Y   \n",
       "1         144.0        270.0          882.0    GasA         TA           Y   \n",
       "2           0.0        406.0         1329.0    GasA         TA           Y   \n",
       "3           0.0       1045.0         2110.0    GasA         Ex           Y   \n",
       "4           0.0        137.0          928.0    GasA         Gd           Y   \n",
       "\n",
       "  Electrical  1st Flr SF  2nd Flr SF  Low Qual Fin SF  Gr Liv Area  \\\n",
       "0      SBrkr        1656           0                0         1656   \n",
       "1      SBrkr         896           0                0          896   \n",
       "2      SBrkr        1329           0                0         1329   \n",
       "3      SBrkr        2110           0                0         2110   \n",
       "4      SBrkr         928         701                0         1629   \n",
       "\n",
       "   Bsmt Full Bath  Bsmt Half Bath  Full Bath  Half Bath  Bedroom AbvGr  \\\n",
       "0             1.0             0.0          1          0              3   \n",
       "1             0.0             0.0          1          0              2   \n",
       "2             0.0             0.0          1          1              3   \n",
       "3             1.0             0.0          2          1              3   \n",
       "4             0.0             0.0          2          1              3   \n",
       "\n",
       "   Kitchen AbvGr Kitchen Qual  TotRms AbvGrd Functional  Fireplaces  \\\n",
       "0              1           TA              7        Typ           2   \n",
       "1              1           TA              5        Typ           0   \n",
       "2              1           Gd              6        Typ           0   \n",
       "3              1           Ex              8        Typ           2   \n",
       "4              1           TA              6        Typ           1   \n",
       "\n",
       "  Fireplace Qu Garage Type  Garage Yr Blt Garage Finish  Garage Cars  \\\n",
       "0           Gd      Attchd         1960.0           Fin          2.0   \n",
       "1          NaN      Attchd         1961.0           Unf          1.0   \n",
       "2          NaN      Attchd         1958.0           Unf          1.0   \n",
       "3           TA      Attchd         1968.0           Fin          2.0   \n",
       "4           TA      Attchd         1997.0           Fin          2.0   \n",
       "\n",
       "   Garage Area Garage Qual Garage Cond Paved Drive  Wood Deck SF  \\\n",
       "0        528.0          TA          TA           P           210   \n",
       "1        730.0          TA          TA           Y           140   \n",
       "2        312.0          TA          TA           Y           393   \n",
       "3        522.0          TA          TA           Y             0   \n",
       "4        482.0          TA          TA           Y           212   \n",
       "\n",
       "   Open Porch SF  Enclosed Porch  3Ssn Porch  Screen Porch  Pool Area Pool QC  \\\n",
       "0             62               0           0             0          0     NaN   \n",
       "1              0               0           0           120          0     NaN   \n",
       "2             36               0           0             0          0     NaN   \n",
       "3              0               0           0             0          0     NaN   \n",
       "4             34               0           0             0          0     NaN   \n",
       "\n",
       "   Fence Misc Feature  Misc Val  Mo Sold  Yr Sold Sale Type Sale Condition  \\\n",
       "0    NaN          NaN         0        5     2010       WD          Normal   \n",
       "1  MnPrv          NaN         0        6     2010       WD          Normal   \n",
       "2    NaN         Gar2     12500        6     2010       WD          Normal   \n",
       "3    NaN          NaN         0        4     2010       WD          Normal   \n",
       "4  MnPrv          NaN         0        3     2010       WD          Normal   \n",
       "\n",
       "   SalePrice  \n",
       "0     215000  \n",
       "1     105000  \n",
       "2     172000  \n",
       "3     244000  \n",
       "4     189900  "
      ]
     },
     "execution_count": 3,
     "metadata": {},
     "output_type": "execute_result"
    }
   ],
   "source": [
    "# Load dataset\n",
    "data = pd.read_csv('..\\MLDeploy\\AmesHousing.csv')\n",
    "print(data.shape)\n",
    "data.head()"
   ]
  },
  {
   "cell_type": "code",
   "execution_count": 4,
   "id": "b0dbd602",
   "metadata": {},
   "outputs": [
    {
     "data": {
      "text/plain": [
       "((2344, 79), (586, 79))"
      ]
     },
     "execution_count": 4,
     "metadata": {},
     "output_type": "execute_result"
    }
   ],
   "source": [
    "X_train, X_test, y_train, y_test = train_test_split(\n",
    "    data.drop(['Order','PID', 'SalePrice'], axis=1), # predictive variables\n",
    "    data['SalePrice'], # target\n",
    "    test_size=0.2, # portion of dataset to allocate to test set\n",
    "    random_state=0, # we are setting the seed here\n",
    ")\n",
    "\n",
    "X_train.shape, X_test.shape"
   ]
  },
  {
   "cell_type": "code",
   "execution_count": 5,
   "id": "19f3cf3e",
   "metadata": {},
   "outputs": [],
   "source": [
    "# Log transform the target\n",
    "\n",
    "y_train = np.log(y_train)\n",
    "y_test = np.log(y_test)"
   ]
  },
  {
   "cell_type": "code",
   "execution_count": 6,
   "id": "8a8cd0f8",
   "metadata": {},
   "outputs": [],
   "source": [
    "cat_vars = [var for var in data.columns if data[var].dtype=='O']\n",
    "\n",
    "cat_vars = cat_vars + ['MS SubClass']\n",
    "\n",
    "X_train[cat_vars]=X_train[cat_vars].astype('O')\n",
    "X_test[cat_vars] = X_test[cat_vars].astype('O')"
   ]
  },
  {
   "cell_type": "code",
   "execution_count": 7,
   "id": "b0a4d871",
   "metadata": {
    "scrolled": true
   },
   "outputs": [
    {
     "data": {
      "text/plain": [
       "Pool QC           0.994881\n",
       "Misc Feature      0.963311\n",
       "Alley             0.934727\n",
       "Fence             0.796928\n",
       "Fireplace Qu      0.487201\n",
       "Garage Finish     0.056314\n",
       "Garage Qual       0.056314\n",
       "Garage Cond       0.056314\n",
       "Garage Type       0.055461\n",
       "Bsmt Exposure     0.030290\n",
       "BsmtFin Type 2    0.029437\n",
       "Bsmt Qual         0.029010\n",
       "Bsmt Cond         0.029010\n",
       "BsmtFin Type 1    0.029010\n",
       "Mas Vnr Type      0.007679\n",
       "Electrical        0.000427\n",
       "dtype: float64"
      ]
     },
     "execution_count": 7,
     "metadata": {},
     "output_type": "execute_result"
    }
   ],
   "source": [
    "cat_vars_with_na = [var for var in cat_vars if X_train[var].isnull().sum()>0]\n",
    "\n",
    "X_train[cat_vars_with_na].isnull().mean().sort_values(ascending=False)"
   ]
  },
  {
   "cell_type": "code",
   "execution_count": 8,
   "id": "5f31490c",
   "metadata": {},
   "outputs": [],
   "source": [
    "with_string_missing=[var for var in cat_vars_with_na if X_train[var].isnull().mean()>0.1]\n",
    "with_frequent_category = [var for var in cat_vars_with_na if X_train[var].isnull().mean()<0.1]"
   ]
  },
  {
   "cell_type": "code",
   "execution_count": 9,
   "id": "d1b498ef",
   "metadata": {
    "scrolled": true
   },
   "outputs": [
    {
     "data": {
      "text/plain": [
       "['Alley', 'Fireplace Qu', 'Pool QC', 'Fence', 'Misc Feature']"
      ]
     },
     "execution_count": 9,
     "metadata": {},
     "output_type": "execute_result"
    }
   ],
   "source": [
    "with_string_missing"
   ]
  },
  {
   "cell_type": "code",
   "execution_count": 10,
   "id": "ed56c241",
   "metadata": {},
   "outputs": [
    {
     "data": {
      "text/plain": [
       "['Mas Vnr Type',\n",
       " 'Bsmt Qual',\n",
       " 'Bsmt Cond',\n",
       " 'Bsmt Exposure',\n",
       " 'BsmtFin Type 1',\n",
       " 'BsmtFin Type 2',\n",
       " 'Electrical',\n",
       " 'Garage Type',\n",
       " 'Garage Finish',\n",
       " 'Garage Qual',\n",
       " 'Garage Cond']"
      ]
     },
     "execution_count": 10,
     "metadata": {},
     "output_type": "execute_result"
    }
   ],
   "source": [
    "with_frequent_category"
   ]
  },
  {
   "cell_type": "code",
   "execution_count": 11,
   "id": "97e8620c",
   "metadata": {
    "scrolled": true
   },
   "outputs": [
    {
     "data": {
      "text/plain": [
       "{'Alley': 'Missing',\n",
       " 'Fireplace Qu': 'Missing',\n",
       " 'Pool QC': 'Missing',\n",
       " 'Fence': 'Missing',\n",
       " 'Misc Feature': 'Missing'}"
      ]
     },
     "execution_count": 11,
     "metadata": {},
     "output_type": "execute_result"
    }
   ],
   "source": [
    "# replace the missing values with 'Missing'\n",
    "cat_imputer_missing = CategoricalImputer(\n",
    "        imputation_method = 'missing', variables=with_string_missing)\n",
    "\n",
    "cat_imputer_missing.fit(X_train)\n",
    "\n",
    "cat_imputer_missing.imputer_dict_"
   ]
  },
  {
   "cell_type": "code",
   "execution_count": 12,
   "id": "4de984d4",
   "metadata": {},
   "outputs": [],
   "source": [
    "X_train = cat_imputer_missing.transform(X_train)\n",
    "X_test = cat_imputer_missing.transform(X_test)"
   ]
  },
  {
   "cell_type": "code",
   "execution_count": 13,
   "id": "11406dd4",
   "metadata": {},
   "outputs": [
    {
     "data": {
      "text/plain": [
       "{'Mas Vnr Type': 'None',\n",
       " 'Bsmt Qual': 'TA',\n",
       " 'Bsmt Cond': 'TA',\n",
       " 'Bsmt Exposure': 'No',\n",
       " 'BsmtFin Type 1': 'GLQ',\n",
       " 'BsmtFin Type 2': 'Unf',\n",
       " 'Electrical': 'SBrkr',\n",
       " 'Garage Type': 'Attchd',\n",
       " 'Garage Finish': 'Unf',\n",
       " 'Garage Qual': 'TA',\n",
       " 'Garage Cond': 'TA'}"
      ]
     },
     "execution_count": 13,
     "metadata": {},
     "output_type": "execute_result"
    }
   ],
   "source": [
    "cat_imputer_frequent = CategoricalImputer(\n",
    "            imputation_method='frequent',variables=with_frequent_category)\n",
    "\n",
    "cat_imputer_frequent.fit(X_train)\n",
    "cat_imputer_frequent.imputer_dict_"
   ]
  },
  {
   "cell_type": "code",
   "execution_count": 14,
   "id": "a2d30e9c",
   "metadata": {},
   "outputs": [],
   "source": [
    "X_train = cat_imputer_frequent.transform(X_train)\n",
    "X_test = cat_imputer_frequent.transform(X_test)"
   ]
  },
  {
   "cell_type": "code",
   "execution_count": 15,
   "id": "75ecd3df",
   "metadata": {},
   "outputs": [
    {
     "data": {
      "text/plain": [
       "[]"
      ]
     },
     "execution_count": 15,
     "metadata": {},
     "output_type": "execute_result"
    }
   ],
   "source": [
    "[var for var in cat_vars_with_na if X_train[var].isnull().sum()>0]"
   ]
  },
  {
   "cell_type": "code",
   "execution_count": 16,
   "id": "6b601495",
   "metadata": {},
   "outputs": [
    {
     "data": {
      "text/plain": [
       "Alley             0\n",
       "Mas Vnr Type      0\n",
       "Bsmt Qual         0\n",
       "Bsmt Cond         0\n",
       "Bsmt Exposure     0\n",
       "BsmtFin Type 1    0\n",
       "BsmtFin Type 2    0\n",
       "Electrical        0\n",
       "Fireplace Qu      0\n",
       "Garage Type       0\n",
       "Garage Finish     0\n",
       "Garage Qual       0\n",
       "Garage Cond       0\n",
       "Pool QC           0\n",
       "Fence             0\n",
       "Misc Feature      0\n",
       "dtype: int64"
      ]
     },
     "execution_count": 16,
     "metadata": {},
     "output_type": "execute_result"
    }
   ],
   "source": [
    "X_test[cat_vars_with_na].isnull().sum()"
   ]
  },
  {
   "cell_type": "code",
   "execution_count": 17,
   "id": "882c4b11",
   "metadata": {},
   "outputs": [
    {
     "data": {
      "text/plain": [
       "35"
      ]
     },
     "execution_count": 17,
     "metadata": {},
     "output_type": "execute_result"
    }
   ],
   "source": [
    "num_vars= [var for var in X_train.columns if var not in cat_vars and var !='SalePrice']\n",
    "\n",
    "len(num_vars)"
   ]
  },
  {
   "cell_type": "code",
   "execution_count": 18,
   "id": "1977d764",
   "metadata": {},
   "outputs": [
    {
     "data": {
      "text/plain": [
       "Lot Frontage      0.174488\n",
       "Garage Yr Blt     0.056314\n",
       "Mas Vnr Area      0.007679\n",
       "Bsmt Full Bath    0.000853\n",
       "Bsmt Half Bath    0.000853\n",
       "BsmtFin SF 1      0.000427\n",
       "BsmtFin SF 2      0.000427\n",
       "Bsmt Unf SF       0.000427\n",
       "Total Bsmt SF     0.000427\n",
       "Garage Cars       0.000427\n",
       "Garage Area       0.000427\n",
       "dtype: float64"
      ]
     },
     "execution_count": 18,
     "metadata": {},
     "output_type": "execute_result"
    }
   ],
   "source": [
    "num_vars_with_na = [var for var in num_vars if \n",
    "                   X_train[var].isnull().sum()>0]\n",
    "\n",
    "X_train[num_vars_with_na].isnull().mean().sort_values(ascending=False)"
   ]
  },
  {
   "cell_type": "code",
   "execution_count": 19,
   "id": "2b2989e1",
   "metadata": {},
   "outputs": [],
   "source": [
    "missing_ind = AddMissingIndicator(variables=num_vars_with_na)\n",
    "\n",
    "missing_ind.fit(X_train)\n",
    "\n",
    "X_train = missing_ind.transform(X_train)\n",
    "X_test = missing_ind.transform(X_test)"
   ]
  },
  {
   "cell_type": "code",
   "execution_count": 20,
   "id": "fc3fd7e0",
   "metadata": {},
   "outputs": [
    {
     "data": {
      "text/html": [
       "<div>\n",
       "<style scoped>\n",
       "    .dataframe tbody tr th:only-of-type {\n",
       "        vertical-align: middle;\n",
       "    }\n",
       "\n",
       "    .dataframe tbody tr th {\n",
       "        vertical-align: top;\n",
       "    }\n",
       "\n",
       "    .dataframe thead th {\n",
       "        text-align: right;\n",
       "    }\n",
       "</style>\n",
       "<table border=\"1\" class=\"dataframe\">\n",
       "  <thead>\n",
       "    <tr style=\"text-align: right;\">\n",
       "      <th></th>\n",
       "      <th>Lot Frontage_na</th>\n",
       "      <th>Mas Vnr Area_na</th>\n",
       "      <th>BsmtFin SF 1_na</th>\n",
       "      <th>BsmtFin SF 2_na</th>\n",
       "      <th>Bsmt Unf SF_na</th>\n",
       "      <th>Total Bsmt SF_na</th>\n",
       "      <th>Bsmt Full Bath_na</th>\n",
       "      <th>Bsmt Half Bath_na</th>\n",
       "      <th>Garage Yr Blt_na</th>\n",
       "      <th>Garage Cars_na</th>\n",
       "      <th>Garage Area_na</th>\n",
       "    </tr>\n",
       "  </thead>\n",
       "  <tbody>\n",
       "    <tr>\n",
       "      <th>2073</th>\n",
       "      <td>0</td>\n",
       "      <td>0</td>\n",
       "      <td>0</td>\n",
       "      <td>0</td>\n",
       "      <td>0</td>\n",
       "      <td>0</td>\n",
       "      <td>0</td>\n",
       "      <td>0</td>\n",
       "      <td>0</td>\n",
       "      <td>0</td>\n",
       "      <td>0</td>\n",
       "    </tr>\n",
       "    <tr>\n",
       "      <th>2754</th>\n",
       "      <td>0</td>\n",
       "      <td>0</td>\n",
       "      <td>0</td>\n",
       "      <td>0</td>\n",
       "      <td>0</td>\n",
       "      <td>0</td>\n",
       "      <td>0</td>\n",
       "      <td>0</td>\n",
       "      <td>0</td>\n",
       "      <td>0</td>\n",
       "      <td>0</td>\n",
       "    </tr>\n",
       "    <tr>\n",
       "      <th>1282</th>\n",
       "      <td>0</td>\n",
       "      <td>0</td>\n",
       "      <td>0</td>\n",
       "      <td>0</td>\n",
       "      <td>0</td>\n",
       "      <td>0</td>\n",
       "      <td>0</td>\n",
       "      <td>0</td>\n",
       "      <td>0</td>\n",
       "      <td>0</td>\n",
       "      <td>0</td>\n",
       "    </tr>\n",
       "    <tr>\n",
       "      <th>1572</th>\n",
       "      <td>1</td>\n",
       "      <td>0</td>\n",
       "      <td>0</td>\n",
       "      <td>0</td>\n",
       "      <td>0</td>\n",
       "      <td>0</td>\n",
       "      <td>0</td>\n",
       "      <td>0</td>\n",
       "      <td>0</td>\n",
       "      <td>0</td>\n",
       "      <td>0</td>\n",
       "    </tr>\n",
       "    <tr>\n",
       "      <th>641</th>\n",
       "      <td>0</td>\n",
       "      <td>0</td>\n",
       "      <td>0</td>\n",
       "      <td>0</td>\n",
       "      <td>0</td>\n",
       "      <td>0</td>\n",
       "      <td>0</td>\n",
       "      <td>0</td>\n",
       "      <td>0</td>\n",
       "      <td>0</td>\n",
       "      <td>0</td>\n",
       "    </tr>\n",
       "  </tbody>\n",
       "</table>\n",
       "</div>"
      ],
      "text/plain": [
       "      Lot Frontage_na  Mas Vnr Area_na  BsmtFin SF 1_na  BsmtFin SF 2_na  \\\n",
       "2073                0                0                0                0   \n",
       "2754                0                0                0                0   \n",
       "1282                0                0                0                0   \n",
       "1572                1                0                0                0   \n",
       "641                 0                0                0                0   \n",
       "\n",
       "      Bsmt Unf SF_na  Total Bsmt SF_na  Bsmt Full Bath_na  Bsmt Half Bath_na  \\\n",
       "2073               0                 0                  0                  0   \n",
       "2754               0                 0                  0                  0   \n",
       "1282               0                 0                  0                  0   \n",
       "1572               0                 0                  0                  0   \n",
       "641                0                 0                  0                  0   \n",
       "\n",
       "      Garage Yr Blt_na  Garage Cars_na  Garage Area_na  \n",
       "2073                 0               0               0  \n",
       "2754                 0               0               0  \n",
       "1282                 0               0               0  \n",
       "1572                 0               0               0  \n",
       "641                  0               0               0  "
      ]
     },
     "execution_count": 20,
     "metadata": {},
     "output_type": "execute_result"
    }
   ],
   "source": [
    "X_train[['Lot Frontage_na',\n",
    " 'Mas Vnr Area_na',\n",
    " 'BsmtFin SF 1_na',\n",
    " 'BsmtFin SF 2_na',\n",
    " 'Bsmt Unf SF_na',\n",
    " 'Total Bsmt SF_na',\n",
    " 'Bsmt Full Bath_na',\n",
    " 'Bsmt Half Bath_na',\n",
    " 'Garage Yr Blt_na',\n",
    " 'Garage Cars_na',\n",
    " 'Garage Area_na']].head()"
   ]
  },
  {
   "cell_type": "code",
   "execution_count": 21,
   "id": "c1371a40",
   "metadata": {},
   "outputs": [],
   "source": [
    "mean_imputer = MeanMedianImputer(\n",
    "                imputation_method='mean', variables=num_vars_with_na)\n",
    "\n",
    "mean_imputer.fit(X_train)\n",
    "\n",
    "X_train = mean_imputer.transform(X_train)\n",
    "X_test = mean_imputer.transform(X_test)"
   ]
  },
  {
   "cell_type": "code",
   "execution_count": 22,
   "id": "6df42374",
   "metadata": {},
   "outputs": [
    {
     "data": {
      "text/plain": [
       "{'Lot Frontage': 69.1875968992248,\n",
       " 'Mas Vnr Area': 102.17669819432503,\n",
       " 'BsmtFin SF 1': 444.4835680751174,\n",
       " 'BsmtFin SF 2': 51.93854033290653,\n",
       " 'Bsmt Unf SF': 554.3585147247119,\n",
       " 'Total Bsmt SF': 1050.7806231327359,\n",
       " 'Bsmt Full Bath': 0.4372331340734415,\n",
       " 'Bsmt Half Bath': 0.060204953031596925,\n",
       " 'Garage Yr Blt': 1977.9046112115732,\n",
       " 'Garage Cars': 1.7618437900128041,\n",
       " 'Garage Area': 471.8113529662825}"
      ]
     },
     "execution_count": 22,
     "metadata": {},
     "output_type": "execute_result"
    }
   ],
   "source": [
    "mean_imputer.imputer_dict_"
   ]
  },
  {
   "cell_type": "code",
   "execution_count": 23,
   "id": "e1638987",
   "metadata": {},
   "outputs": [
    {
     "data": {
      "text/plain": [
       "[]"
      ]
     },
     "execution_count": 23,
     "metadata": {},
     "output_type": "execute_result"
    }
   ],
   "source": [
    "[var for var in num_vars_with_na if X_test[var].isnull().sum()>0]"
   ]
  },
  {
   "cell_type": "code",
   "execution_count": 24,
   "id": "08fa3a4c",
   "metadata": {},
   "outputs": [],
   "source": [
    "def elapsed_year(df,var):\n",
    "    df[var] = df['Yr Sold']-df[var]\n",
    "    return df"
   ]
  },
  {
   "cell_type": "code",
   "execution_count": 25,
   "id": "6622e312",
   "metadata": {},
   "outputs": [],
   "source": [
    "for var in ['Year Built', 'Year Remod/Add', 'Garage Yr Blt']:\n",
    "    X_train = elapsed_year(X_train, var)\n",
    "    X_test = elapsed_year(X_test,var)"
   ]
  },
  {
   "cell_type": "code",
   "execution_count": 26,
   "id": "82a248f9",
   "metadata": {},
   "outputs": [],
   "source": [
    "drop_features = DropFeatures(features_to_drop=['Yr Sold'])\n",
    "\n",
    "X_train = drop_features.fit_transform(X_train)\n",
    "X_test = drop_features.transform(X_test)"
   ]
  },
  {
   "cell_type": "code",
   "execution_count": 27,
   "id": "99498207",
   "metadata": {},
   "outputs": [],
   "source": [
    "log_transformer = LogTransformer(variables=['Lot Frontage',\n",
    "                                           '1st Flr SF', \n",
    "                                           'Gr Liv Area'])\n",
    "\n",
    "X_train = log_transformer.fit_transform(X_train)\n",
    "X_test = log_transformer.transform(X_test)"
   ]
  },
  {
   "cell_type": "code",
   "execution_count": 28,
   "id": "e065297d",
   "metadata": {},
   "outputs": [
    {
     "data": {
      "text/plain": [
       "{'Lot Area': 0.10674834539872138}"
      ]
     },
     "execution_count": 28,
     "metadata": {},
     "output_type": "execute_result"
    }
   ],
   "source": [
    "yeo_transformer = YeoJohnsonTransformer(variables=['Lot Area'])\n",
    "\n",
    "X_train = yeo_transformer.fit_transform(X_train)\n",
    "X_test = yeo_transformer.transform(X_test)\n",
    "\n",
    "yeo_transformer.lambda_dict_"
   ]
  },
  {
   "cell_type": "code",
   "execution_count": 29,
   "id": "12bb6197",
   "metadata": {},
   "outputs": [
    {
     "data": {
      "text/plain": [
       "[]"
      ]
     },
     "execution_count": 29,
     "metadata": {},
     "output_type": "execute_result"
    }
   ],
   "source": [
    "[var for var in X_train.columns if X_train[var].isnull().sum() > 0]"
   ]
  },
  {
   "cell_type": "code",
   "execution_count": 30,
   "id": "74e9b056",
   "metadata": {},
   "outputs": [
    {
     "data": {
      "text/plain": [
       "[]"
      ]
     },
     "execution_count": 30,
     "metadata": {},
     "output_type": "execute_result"
    }
   ],
   "source": [
    "[var for var in X_test.columns if X_test[var].isnull().sum()>0]"
   ]
  },
  {
   "cell_type": "code",
   "execution_count": 31,
   "id": "6d1cd751",
   "metadata": {
    "scrolled": true
   },
   "outputs": [
    {
     "data": {
      "text/html": [
       "<div>\n",
       "<style scoped>\n",
       "    .dataframe tbody tr th:only-of-type {\n",
       "        vertical-align: middle;\n",
       "    }\n",
       "\n",
       "    .dataframe tbody tr th {\n",
       "        vertical-align: top;\n",
       "    }\n",
       "\n",
       "    .dataframe thead th {\n",
       "        text-align: right;\n",
       "    }\n",
       "</style>\n",
       "<table border=\"1\" class=\"dataframe\">\n",
       "  <thead>\n",
       "    <tr style=\"text-align: right;\">\n",
       "      <th></th>\n",
       "      <th>BsmtFin SF 2</th>\n",
       "      <th>Low Qual Fin SF</th>\n",
       "      <th>Enclosed Porch</th>\n",
       "      <th>3Ssn Porch</th>\n",
       "      <th>Screen Porch</th>\n",
       "      <th>Misc Val</th>\n",
       "    </tr>\n",
       "  </thead>\n",
       "  <tbody>\n",
       "    <tr>\n",
       "      <th>2073</th>\n",
       "      <td>0.0</td>\n",
       "      <td>0.0</td>\n",
       "      <td>0.0</td>\n",
       "      <td>0.0</td>\n",
       "      <td>1.0</td>\n",
       "      <td>0.0</td>\n",
       "    </tr>\n",
       "    <tr>\n",
       "      <th>2754</th>\n",
       "      <td>0.0</td>\n",
       "      <td>0.0</td>\n",
       "      <td>0.0</td>\n",
       "      <td>0.0</td>\n",
       "      <td>0.0</td>\n",
       "      <td>0.0</td>\n",
       "    </tr>\n",
       "    <tr>\n",
       "      <th>1282</th>\n",
       "      <td>0.0</td>\n",
       "      <td>0.0</td>\n",
       "      <td>0.0</td>\n",
       "      <td>0.0</td>\n",
       "      <td>0.0</td>\n",
       "      <td>0.0</td>\n",
       "    </tr>\n",
       "    <tr>\n",
       "      <th>1572</th>\n",
       "      <td>1.0</td>\n",
       "      <td>0.0</td>\n",
       "      <td>1.0</td>\n",
       "      <td>0.0</td>\n",
       "      <td>0.0</td>\n",
       "      <td>0.0</td>\n",
       "    </tr>\n",
       "    <tr>\n",
       "      <th>641</th>\n",
       "      <td>0.0</td>\n",
       "      <td>0.0</td>\n",
       "      <td>0.0</td>\n",
       "      <td>0.0</td>\n",
       "      <td>0.0</td>\n",
       "      <td>0.0</td>\n",
       "    </tr>\n",
       "  </tbody>\n",
       "</table>\n",
       "</div>"
      ],
      "text/plain": [
       "      BsmtFin SF 2  Low Qual Fin SF  Enclosed Porch  3Ssn Porch  Screen Porch  \\\n",
       "2073           0.0              0.0             0.0         0.0           1.0   \n",
       "2754           0.0              0.0             0.0         0.0           0.0   \n",
       "1282           0.0              0.0             0.0         0.0           0.0   \n",
       "1572           1.0              0.0             1.0         0.0           0.0   \n",
       "641            0.0              0.0             0.0         0.0           0.0   \n",
       "\n",
       "      Misc Val  \n",
       "2073       0.0  \n",
       "2754       0.0  \n",
       "1282       0.0  \n",
       "1572       0.0  \n",
       "641        0.0  "
      ]
     },
     "execution_count": 31,
     "metadata": {},
     "output_type": "execute_result"
    }
   ],
   "source": [
    "skewed = ['BsmtFin SF 2', 'Low Qual Fin SF', 'Enclosed Porch',\n",
    "    '3Ssn Porch', 'Screen Porch', 'Misc Val']\n",
    "\n",
    "binarizer = SklearnTransformerWrapper(\n",
    "            transformer=Binarizer(threshold=0), variables=skewed)\n",
    "\n",
    "X_train = binarizer.fit_transform(X_train)\n",
    "X_test = binarizer.transform(X_test)\n",
    "\n",
    "X_train[skewed].head()"
   ]
  },
  {
   "cell_type": "code",
   "execution_count": 32,
   "id": "7cd6548e",
   "metadata": {},
   "outputs": [],
   "source": [
    "qual_mappings = {'Po': 1, 'Fa': 2, 'TA': 3, 'Gd': 4, 'Ex': 5, 'Missing': 0, 'NA': 0}\n",
    "\n",
    "qual_vars = ['Exter Qual', 'Exter Cond', 'Bsmt Qual', 'Bsmt Cond',\n",
    "             'Heating QC', 'Kitchen Qual', 'Fireplace Qu',\n",
    "             'Garage Qual', 'Garage Cond',]\n",
    "\n",
    "for var in qual_vars:\n",
    "    X_train[var]=X_train[var].map(qual_mappings)\n",
    "    X_test[var]=X_test[var].map(qual_mappings)"
   ]
  },
  {
   "cell_type": "code",
   "execution_count": 33,
   "id": "57197445",
   "metadata": {},
   "outputs": [],
   "source": [
    "exposure_mappings = {'No': 1, 'Mn': 2, 'Av': 3, 'Gd': 4}\n",
    "\n",
    "var = 'Bsmt Exposure'\n",
    "X_train[var] = X_train[var].map(exposure_mappings)\n",
    "X_test[var]=X_test[var].map(exposure_mappings)\n"
   ]
  },
  {
   "cell_type": "code",
   "execution_count": 34,
   "id": "a2d7eba0",
   "metadata": {},
   "outputs": [],
   "source": [
    "finish_mappings={'Missing': 0, 'NA': 0, 'Unf': 1, 'LwQ': 2, 'Rec': 3, 'BLQ': 4, 'ALQ': 5, 'GLQ': 6}\n",
    "\n",
    "finish_vars = ['BsmtFin Type 1', 'BsmtFin Type 2']\n",
    "\n",
    "for var in finish_vars:\n",
    "    X_train[var] = X_train[var].map(finish_mappings)\n",
    "    X_test[var] = X_test[var].map(finish_mappings)"
   ]
  },
  {
   "cell_type": "code",
   "execution_count": 35,
   "id": "a185bcd4",
   "metadata": {},
   "outputs": [],
   "source": [
    "garage_mappings = {'Missing': 0, 'NA': 0, 'Unf': 1, 'RFn': 2, 'Fin': 3}\n",
    "\n",
    "var = 'Garage Finish'\n",
    "\n",
    "X_train[var] = X_train[var].map(garage_mappings)\n",
    "X_test[var] = X_test[var].map(garage_mappings)"
   ]
  },
  {
   "cell_type": "code",
   "execution_count": 36,
   "id": "c5cff997",
   "metadata": {},
   "outputs": [],
   "source": [
    "fence_mappings = {'Missing': 0, 'NA': 0, 'MnWw': 1, 'GdWo': 2, 'MnPrv': 3, 'GdPrv': 4}\n",
    "\n",
    "var = 'Fence'\n",
    "\n",
    "X_train[var] = X_train[var].map(fence_mappings)\n",
    "X_test[var] = X_test[var].map(fence_mappings)"
   ]
  },
  {
   "cell_type": "code",
   "execution_count": 37,
   "id": "0e8ed4c2",
   "metadata": {},
   "outputs": [
    {
     "data": {
      "text/plain": [
       "[]"
      ]
     },
     "execution_count": 37,
     "metadata": {},
     "output_type": "execute_result"
    }
   ],
   "source": [
    "[var for var in X_train.columns if X_train[var].isnull().sum()>0]"
   ]
  },
  {
   "cell_type": "code",
   "execution_count": 42,
   "id": "8d3099a8",
   "metadata": {},
   "outputs": [
    {
     "data": {
      "text/plain": [
       "[]"
      ]
     },
     "execution_count": 42,
     "metadata": {},
     "output_type": "execute_result"
    }
   ],
   "source": [
    "[var for var in X_test.columns if X_test[var].isnull().sum()>0]"
   ]
  },
  {
   "cell_type": "code",
   "execution_count": 43,
   "id": "fafafd32",
   "metadata": {},
   "outputs": [
    {
     "data": {
      "text/plain": [
       "30"
      ]
     },
     "execution_count": 43,
     "metadata": {},
     "output_type": "execute_result"
    }
   ],
   "source": [
    "qual_vars = qual_vars + finish_vars + ['Bsmt Exposure','Garage Finish','Fence']\n",
    "\n",
    "cat_others = [var for var in cat_vars if var not in qual_vars]\n",
    "\n",
    "len(cat_others)"
   ]
  },
  {
   "cell_type": "code",
   "execution_count": 44,
   "id": "7f6d79ca",
   "metadata": {
    "scrolled": true
   },
   "outputs": [
    {
     "data": {
      "text/plain": [
       "{'MS Zoning': Index(['RL', 'RM', 'FV'], dtype='object'),\n",
       " 'Street': Index(['Pave'], dtype='object'),\n",
       " 'Alley': Index(['Missing', 'Grvl', 'Pave'], dtype='object'),\n",
       " 'Lot Shape': Index(['Reg', 'IR1', 'IR2'], dtype='object'),\n",
       " 'Land Contour': Index(['Lvl', 'HLS', 'Bnk', 'Low'], dtype='object'),\n",
       " 'Utilities': Index(['AllPub'], dtype='object'),\n",
       " 'Lot Config': Index(['Inside', 'Corner', 'CulDSac', 'FR2'], dtype='object'),\n",
       " 'Land Slope': Index(['Gtl', 'Mod'], dtype='object'),\n",
       " 'Neighborhood': Index(['NAmes', 'CollgCr', 'OldTown', 'Edwards', 'Somerst', 'NridgHt',\n",
       "        'Sawyer', 'Gilbert', 'NWAmes', 'SawyerW', 'Mitchel', 'BrkSide',\n",
       "        'Crawfor', 'IDOTRR', 'Timber', 'NoRidge', 'ClearCr', 'StoneBr', 'SWISU',\n",
       "        'MeadowV', 'BrDale'],\n",
       "       dtype='object'),\n",
       " 'Condition 1': Index(['Norm', 'Feedr', 'Artery', 'RRAn', 'PosN'], dtype='object'),\n",
       " 'Condition 2': Index(['Norm'], dtype='object'),\n",
       " 'Bldg Type': Index(['1Fam', 'TwnhsE', 'Twnhs', 'Duplex', '2fmCon'], dtype='object'),\n",
       " 'House Style': Index(['1Story', '2Story', '1.5Fin', 'SLvl', 'SFoyer'], dtype='object'),\n",
       " 'Roof Style': Index(['Gable', 'Hip'], dtype='object'),\n",
       " 'Roof Matl': Index(['CompShg'], dtype='object'),\n",
       " 'Exterior 1st': Index(['VinylSd', 'HdBoard', 'MetalSd', 'Wd Sdng', 'Plywood', 'CemntBd',\n",
       "        'BrkFace', 'WdShing', 'AsbShng', 'Stucco'],\n",
       "       dtype='object'),\n",
       " 'Exterior 2nd': Index(['VinylSd', 'MetalSd', 'HdBoard', 'Wd Sdng', 'Plywood', 'CmentBd',\n",
       "        'Wd Shng', 'BrkFace', 'Stucco', 'AsbShng'],\n",
       "       dtype='object'),\n",
       " 'Mas Vnr Type': Index(['None', 'BrkFace', 'Stone'], dtype='object'),\n",
       " 'Foundation': Index(['PConc', 'CBlock', 'BrkTil', 'Slab'], dtype='object'),\n",
       " 'Heating': Index(['GasA'], dtype='object'),\n",
       " 'Central Air': Index(['Y', 'N'], dtype='object'),\n",
       " 'Electrical': Index(['SBrkr', 'FuseA', 'FuseF'], dtype='object'),\n",
       " 'Functional': Index(['Typ', 'Min1', 'Min2', 'Mod'], dtype='object'),\n",
       " 'Garage Type': Index(['Attchd', 'Detchd', 'BuiltIn', 'Basment'], dtype='object'),\n",
       " 'Paved Drive': Index(['Y', 'N', 'P'], dtype='object'),\n",
       " 'Pool QC': Index(['Missing'], dtype='object'),\n",
       " 'Misc Feature': Index(['Missing', 'Shed'], dtype='object'),\n",
       " 'Sale Type': Index(['WD ', 'New', 'COD'], dtype='object'),\n",
       " 'Sale Condition': Index(['Normal', 'Partial', 'Abnorml', 'Family'], dtype='object'),\n",
       " 'MS SubClass': Int64Index([20, 60, 50, 120, 30, 160, 70, 80, 90, 190, 85], dtype='int64')}"
      ]
     },
     "execution_count": 44,
     "metadata": {},
     "output_type": "execute_result"
    }
   ],
   "source": [
    "rare_encoder = RareLabelEncoder(tol=0.01, n_categories=1, variables=\n",
    "                               cat_others)\n",
    "\n",
    "rare_encoder.fit(X_train)\n",
    "\n",
    "rare_encoder.encoder_dict_"
   ]
  },
  {
   "cell_type": "code",
   "execution_count": 45,
   "id": "e09d7916",
   "metadata": {},
   "outputs": [],
   "source": [
    "X_train = rare_encoder.transform(X_train)\n",
    "X_test = rare_encoder.transform(X_test)"
   ]
  },
  {
   "cell_type": "code",
   "execution_count": 48,
   "id": "17038c0d",
   "metadata": {
    "scrolled": false
   },
   "outputs": [
    {
     "data": {
      "text/plain": [
       "{'MS Zoning': {'Rare': 0, 'RM': 1, 'RL': 2, 'FV': 3},\n",
       " 'Street': {'Rare': 0, 'Pave': 1},\n",
       " 'Alley': {'Grvl': 0, 'Missing': 1, 'Pave': 2},\n",
       " 'Lot Shape': {'Reg': 0, 'IR1': 1, 'Rare': 2, 'IR2': 3},\n",
       " 'Land Contour': {'Bnk': 0, 'Lvl': 1, 'Low': 2, 'HLS': 3},\n",
       " 'Utilities': {'Rare': 0, 'AllPub': 1},\n",
       " 'Lot Config': {'Inside': 0, 'Corner': 1, 'FR2': 2, 'Rare': 3, 'CulDSac': 4},\n",
       " 'Land Slope': {'Gtl': 0, 'Mod': 1, 'Rare': 2},\n",
       " 'Neighborhood': {'IDOTRR': 0,\n",
       "  'MeadowV': 1,\n",
       "  'BrDale': 2,\n",
       "  'OldTown': 3,\n",
       "  'BrkSide': 4,\n",
       "  'Edwards': 5,\n",
       "  'SWISU': 6,\n",
       "  'Sawyer': 7,\n",
       "  'NAmes': 8,\n",
       "  'Mitchel': 9,\n",
       "  'SawyerW': 10,\n",
       "  'NWAmes': 11,\n",
       "  'Rare': 12,\n",
       "  'Gilbert': 13,\n",
       "  'CollgCr': 14,\n",
       "  'Crawfor': 15,\n",
       "  'ClearCr': 16,\n",
       "  'Somerst': 17,\n",
       "  'Timber': 18,\n",
       "  'StoneBr': 19,\n",
       "  'NridgHt': 20,\n",
       "  'NoRidge': 21},\n",
       " 'Condition 1': {'Artery': 0,\n",
       "  'Feedr': 1,\n",
       "  'Rare': 2,\n",
       "  'Norm': 3,\n",
       "  'RRAn': 4,\n",
       "  'PosN': 5},\n",
       " 'Condition 2': {'Rare': 0, 'Norm': 1},\n",
       " 'Bldg Type': {'2fmCon': 0, 'Twnhs': 1, 'Duplex': 2, '1Fam': 3, 'TwnhsE': 4},\n",
       " 'House Style': {'1.5Fin': 0,\n",
       "  'SFoyer': 1,\n",
       "  'Rare': 2,\n",
       "  '1Story': 3,\n",
       "  'SLvl': 4,\n",
       "  '2Story': 5},\n",
       " 'Roof Style': {'Rare': 0, 'Gable': 1, 'Hip': 2},\n",
       " 'Roof Matl': {'CompShg': 0, 'Rare': 1},\n",
       " 'Exterior 1st': {'AsbShng': 0,\n",
       "  'Stucco': 1,\n",
       "  'Wd Sdng': 2,\n",
       "  'MetalSd': 3,\n",
       "  'Rare': 4,\n",
       "  'WdShing': 5,\n",
       "  'HdBoard': 6,\n",
       "  'Plywood': 7,\n",
       "  'BrkFace': 8,\n",
       "  'CemntBd': 9,\n",
       "  'VinylSd': 10},\n",
       " 'Exterior 2nd': {'AsbShng': 0,\n",
       "  'Stucco': 1,\n",
       "  'Wd Sdng': 2,\n",
       "  'Wd Shng': 3,\n",
       "  'MetalSd': 4,\n",
       "  'HdBoard': 5,\n",
       "  'Rare': 6,\n",
       "  'Plywood': 7,\n",
       "  'BrkFace': 8,\n",
       "  'VinylSd': 9,\n",
       "  'CmentBd': 10},\n",
       " 'Mas Vnr Type': {'Rare': 0, 'None': 1, 'BrkFace': 2, 'Stone': 3},\n",
       " 'Foundation': {'Slab': 0, 'BrkTil': 1, 'CBlock': 2, 'Rare': 3, 'PConc': 4},\n",
       " 'Heating': {'Rare': 0, 'GasA': 1},\n",
       " 'Central Air': {'N': 0, 'Y': 1},\n",
       " 'Electrical': {'Rare': 0, 'FuseF': 1, 'FuseA': 2, 'SBrkr': 3},\n",
       " 'Functional': {'Rare': 0, 'Mod': 1, 'Min1': 2, 'Min2': 3, 'Typ': 4},\n",
       " 'Garage Type': {'Detchd': 0,\n",
       "  'Rare': 1,\n",
       "  'Basment': 2,\n",
       "  'Attchd': 3,\n",
       "  'BuiltIn': 4},\n",
       " 'Paved Drive': {'N': 0, 'P': 1, 'Y': 2},\n",
       " 'Pool QC': {'Missing': 0, 'Rare': 1},\n",
       " 'Misc Feature': {'Rare': 0, 'Shed': 1, 'Missing': 2},\n",
       " 'Sale Type': {'COD': 0, 'Rare': 1, 'WD ': 2, 'New': 3},\n",
       " 'Sale Condition': {'Abnorml': 0,\n",
       "  'Rare': 1,\n",
       "  'Family': 2,\n",
       "  'Normal': 3,\n",
       "  'Partial': 4},\n",
       " 'MS SubClass': {30: 0,\n",
       "  190: 1,\n",
       "  50: 2,\n",
       "  160: 3,\n",
       "  'Rare': 4,\n",
       "  90: 5,\n",
       "  70: 6,\n",
       "  85: 7,\n",
       "  80: 8,\n",
       "  20: 9,\n",
       "  120: 10,\n",
       "  60: 11}}"
      ]
     },
     "execution_count": 48,
     "metadata": {},
     "output_type": "execute_result"
    }
   ],
   "source": [
    "cat_encoder = OrdinalEncoder(encoding_method='ordered', variables=cat_others)\n",
    "\n",
    "cat_encoder.fit(X_train, y_train)\n",
    "\n",
    "cat_encoder.encoder_dict_"
   ]
  },
  {
   "cell_type": "code",
   "execution_count": 49,
   "id": "3f456115",
   "metadata": {},
   "outputs": [],
   "source": [
    "X_train = cat_encoder.transform(X_train)\n",
    "X_test = cat_encoder.transform(X_test)"
   ]
  },
  {
   "cell_type": "code",
   "execution_count": 50,
   "id": "2d3cdc66",
   "metadata": {
    "scrolled": true
   },
   "outputs": [
    {
     "data": {
      "text/plain": [
       "[]"
      ]
     },
     "execution_count": 50,
     "metadata": {},
     "output_type": "execute_result"
    }
   ],
   "source": [
    "[var for var in X_train.columns if X_train[var].isnull().sum()>0]"
   ]
  },
  {
   "cell_type": "code",
   "execution_count": 51,
   "id": "fac57e03",
   "metadata": {},
   "outputs": [
    {
     "data": {
      "text/plain": [
       "[]"
      ]
     },
     "execution_count": 51,
     "metadata": {},
     "output_type": "execute_result"
    }
   ],
   "source": [
    "[var for var in X_test.columns if X_test[var].isnull().sum()>0]"
   ]
  },
  {
   "cell_type": "code",
   "execution_count": 46,
   "id": "ec7a919d",
   "metadata": {},
   "outputs": [
    {
     "data": {
      "image/png": "[encoded data removed]",
      "text/plain": [
       "<Figure size 432x288 with 1 Axes>"
      ]
     },
     "metadata": {
      "needs_background": "light"
     },
     "output_type": "display_data"
    },
    {
     "data": {
      "image/png": "[encoded data removed]",
      "text/plain": [
       "<Figure size 432x288 with 1 Axes>"
      ]
     },
     "metadata": {
      "needs_background": "light"
     },
     "output_type": "display_data"
    },
    {
     "data": {
      "image/png": "[encoded data removed]",
      "text/plain": [
       "<Figure size 432x288 with 1 Axes>"
      ]
     },
     "metadata": {
      "needs_background": "light"
     },
     "output_type": "display_data"
    },
    {
     "data": {
      "image/png": "[encoded data removed]",
      "text/plain": [
       "<Figure size 432x288 with 1 Axes>"
      ]
     },
     "metadata": {
      "needs_background": "light"
     },
     "output_type": "display_data"
    },
    {
     "data": {
      "image/png": "[encoded data removed]",
      "text/plain": [
       "<Figure size 432x288 with 1 Axes>"
      ]
     },
     "metadata": {
      "needs_background": "light"
     },
     "output_type": "display_data"
    },
    {
     "data": {
      "image/png": "[encoded data removed]",
      "text/plain": [
       "<Figure size 432x288 with 1 Axes>"
      ]
     },
     "metadata": {
      "needs_background": "light"
     },
     "output_type": "display_data"
    },
    {
     "data": {
      "image/png": "[encoded data removed]",
      "text/plain": [
       "<Figure size 432x288 with 1 Axes>"
      ]
     },
     "metadata": {
      "needs_background": "light"
     },
     "output_type": "display_data"
    },
    {
     "data": {
      "image/png": "[encoded data removed]",
      "text/plain": [
       "<Figure size 432x288 with 1 Axes>"
      ]
     },
     "metadata": {
      "needs_background": "light"
     },
     "output_type": "display_data"
    },
    {
     "data": {
      "image/png": "[encoded data removed]",
      "text/plain": [
       "<Figure size 432x288 with 1 Axes>"
      ]
     },
     "metadata": {
      "needs_background": "light"
     },
     "output_type": "display_data"
    },
    {
     "data": {
      "image/png": "[encoded data removed]",
      "text/plain": [
       "<Figure size 432x288 with 1 Axes>"
      ]
     },
     "metadata": {
      "needs_background": "light"
     },
     "output_type": "display_data"
    },
    {
     "data": {
      "image/png": "[encoded data removed]",
      "text/plain": [
       "<Figure size 432x288 with 1 Axes>"
      ]
     },
     "metadata": {
      "needs_background": "light"
     },
     "output_type": "display_data"
    },
    {
     "data": {
      "image/png": "[encoded data removed]",
      "text/plain": [
       "<Figure size 432x288 with 1 Axes>"
      ]
     },
     "metadata": {
      "needs_background": "light"
     },
     "output_type": "display_data"
    },
    {
     "data": {
      "image/png": "[encoded data removed]",
      "text/plain": [
       "<Figure size 432x288 with 1 Axes>"
      ]
     },
     "metadata": {
      "needs_background": "light"
     },
     "output_type": "display_data"
    },
    {
     "data": {
      "image/png": "[encoded data removed]",
      "text/plain": [
       "<Figure size 432x288 with 1 Axes>"
      ]
     },
     "metadata": {
      "needs_background": "light"
     },
     "output_type": "display_data"
    },
    {
     "data": {
      "image/png": "[encoded data removed]",
      "text/plain": [
       "<Figure size 432x288 with 1 Axes>"
      ]
     },
     "metadata": {
      "needs_background": "light"
     },
     "output_type": "display_data"
    },
    {
     "data": {
      "image/png": "[encoded data removed]",
      "text/plain": [
       "<Figure size 432x288 with 1 Axes>"
      ]
     },
     "metadata": {
      "needs_background": "light"
     },
     "output_type": "display_data"
    },
    {
     "data": {
      "image/png": "[encoded data removed]",
      "text/plain": [
       "<Figure size 432x288 with 1 Axes>"
      ]
     },
     "metadata": {
      "needs_background": "light"
     },
     "output_type": "display_data"
    },
    {
     "data": {
      "image/png": "[encoded data removed]",
      "text/plain": [
       "<Figure size 432x288 with 1 Axes>"
      ]
     },
     "metadata": {
      "needs_background": "light"
     },
     "output_type": "display_data"
    },
    {
     "data": {
      "image/png": "[encoded data removed]",
      "text/plain": [
       "<Figure size 432x288 with 1 Axes>"
      ]
     },
     "metadata": {
      "needs_background": "light"
     },
     "output_type": "display_data"
    },
    {
     "data": {
      "image/png": "[encoded data removed]",
      "text/plain": [
       "<Figure size 432x288 with 1 Axes>"
      ]
     },
     "metadata": {
      "needs_background": "light"
     },
     "output_type": "display_data"
    },
    {
     "data": {
      "image/png": "[encoded data removed]",
      "text/plain": [
       "<Figure size 432x288 with 1 Axes>"
      ]
     },
     "metadata": {
      "needs_background": "light"
     },
     "output_type": "display_data"
    },
    {
     "data": {
      "image/png": "[encoded data removed]",
      "text/plain": [
       "<Figure size 432x288 with 1 Axes>"
      ]
     },
     "metadata": {
      "needs_background": "light"
     },
     "output_type": "display_data"
    },
    {
     "data": {
      "image/png": "[encoded data removed]",
      "text/plain": [
       "<Figure size 432x288 with 1 Axes>"
      ]
     },
     "metadata": {
      "needs_background": "light"
     },
     "output_type": "display_data"
    },
    {
     "data": {
      "image/png": "[encoded data removed]",
      "text/plain": [
       "<Figure size 432x288 with 1 Axes>"
      ]
     },
     "metadata": {
      "needs_background": "light"
     },
     "output_type": "display_data"
    },
    {
     "data": {
      "image/png": "[encoded data removed]",
      "text/plain": [
       "<Figure size 432x288 with 1 Axes>"
      ]
     },
     "metadata": {
      "needs_background": "light"
     },
     "output_type": "display_data"
    },
    {
     "data": {
      "image/png": "[encoded data removed]",
      "text/plain": [
       "<Figure size 432x288 with 1 Axes>"
      ]
     },
     "metadata": {
      "needs_background": "light"
     },
     "output_type": "display_data"
    },
    {
     "data": {
      "image/png": "[encoded data removed]",
      "text/plain": [
       "<Figure size 432x288 with 1 Axes>"
      ]
     },
     "metadata": {
      "needs_background": "light"
     },
     "output_type": "display_data"
    },
    {
     "data": {
      "image/png": "[encoded data removed]",
      "text/plain": [
       "<Figure size 432x288 with 1 Axes>"
      ]
     },
     "metadata": {
      "needs_background": "light"
     },
     "output_type": "display_data"
    },
    {
     "data": {
      "image/png": "[encoded data removed]",
      "text/plain": [
       "<Figure size 432x288 with 1 Axes>"
      ]
     },
     "metadata": {
      "needs_background": "light"
     },
     "output_type": "display_data"
    },
    {
     "data": {
      "image/png": "[encoded data removed]",
      "text/plain": [
       "<Figure size 432x288 with 1 Axes>"
      ]
     },
     "metadata": {
      "needs_background": "light"
     },
     "output_type": "display_data"
    }
   ],
   "source": [
    "def analyse_var(train, y_train, var):\n",
    "    tmp = pd.concat([train,np.log(y_train)], axis=1)\n",
    "    tmp.groupby(var)['SalePrice'].mean().plot.bar()\n",
    "    plt.title(var)\n",
    "    plt.ylim(2.2,2.6)\n",
    "    plt.ylabel('SalePrice')\n",
    "    plt.show()\n",
    "    \n",
    "for var in cat_others:\n",
    "    analyse_var(X_train, y_train, var)"
   ]
  },
  {
   "cell_type": "code",
   "execution_count": 53,
   "id": "34a05942",
   "metadata": {},
   "outputs": [],
   "source": [
    "scaler = MinMaxScaler()\n",
    "\n",
    "scaler.fit(X_train)\n",
    "\n",
    "X_train = pd.DataFrame(scaler.transform(X_train), columns=X_train.columns)\n",
    "X_test = pd.DataFrame(scaler.transform(X_test), columns = X_test.columns)"
   ]
  },
  {
   "cell_type": "code",
   "execution_count": 54,
   "id": "a6dd36c1",
   "metadata": {},
   "outputs": [
    {
     "data": {
      "text/html": [
       "<div>\n",
       "<style scoped>\n",
       "    .dataframe tbody tr th:only-of-type {\n",
       "        vertical-align: middle;\n",
       "    }\n",
       "\n",
       "    .dataframe tbody tr th {\n",
       "        vertical-align: top;\n",
       "    }\n",
       "\n",
       "    .dataframe thead th {\n",
       "        text-align: right;\n",
       "    }\n",
       "</style>\n",
       "<table border=\"1\" class=\"dataframe\">\n",
       "  <thead>\n",
       "    <tr style=\"text-align: right;\">\n",
       "      <th></th>\n",
       "      <th>MS SubClass</th>\n",
       "      <th>MS Zoning</th>\n",
       "      <th>Lot Frontage</th>\n",
       "      <th>Lot Area</th>\n",
       "      <th>Street</th>\n",
       "      <th>Alley</th>\n",
       "      <th>Lot Shape</th>\n",
       "      <th>Land Contour</th>\n",
       "      <th>Utilities</th>\n",
       "      <th>Lot Config</th>\n",
       "      <th>Land Slope</th>\n",
       "      <th>Neighborhood</th>\n",
       "      <th>Condition 1</th>\n",
       "      <th>Condition 2</th>\n",
       "      <th>Bldg Type</th>\n",
       "      <th>House Style</th>\n",
       "      <th>Overall Qual</th>\n",
       "      <th>Overall Cond</th>\n",
       "      <th>Year Built</th>\n",
       "      <th>Year Remod/Add</th>\n",
       "      <th>Roof Style</th>\n",
       "      <th>Roof Matl</th>\n",
       "      <th>Exterior 1st</th>\n",
       "      <th>Exterior 2nd</th>\n",
       "      <th>Mas Vnr Type</th>\n",
       "      <th>Mas Vnr Area</th>\n",
       "      <th>Exter Qual</th>\n",
       "      <th>Exter Cond</th>\n",
       "      <th>Foundation</th>\n",
       "      <th>Bsmt Qual</th>\n",
       "      <th>Bsmt Cond</th>\n",
       "      <th>Bsmt Exposure</th>\n",
       "      <th>BsmtFin Type 1</th>\n",
       "      <th>BsmtFin SF 1</th>\n",
       "      <th>BsmtFin Type 2</th>\n",
       "      <th>BsmtFin SF 2</th>\n",
       "      <th>Bsmt Unf SF</th>\n",
       "      <th>Total Bsmt SF</th>\n",
       "      <th>Heating</th>\n",
       "      <th>Heating QC</th>\n",
       "      <th>Central Air</th>\n",
       "      <th>Electrical</th>\n",
       "      <th>1st Flr SF</th>\n",
       "      <th>2nd Flr SF</th>\n",
       "      <th>Low Qual Fin SF</th>\n",
       "      <th>Gr Liv Area</th>\n",
       "      <th>Bsmt Full Bath</th>\n",
       "      <th>Bsmt Half Bath</th>\n",
       "      <th>Full Bath</th>\n",
       "      <th>Half Bath</th>\n",
       "      <th>Bedroom AbvGr</th>\n",
       "      <th>Kitchen AbvGr</th>\n",
       "      <th>Kitchen Qual</th>\n",
       "      <th>TotRms AbvGrd</th>\n",
       "      <th>Functional</th>\n",
       "      <th>Fireplaces</th>\n",
       "      <th>Fireplace Qu</th>\n",
       "      <th>Garage Type</th>\n",
       "      <th>Garage Yr Blt</th>\n",
       "      <th>Garage Finish</th>\n",
       "      <th>Garage Cars</th>\n",
       "      <th>Garage Area</th>\n",
       "      <th>Garage Qual</th>\n",
       "      <th>Garage Cond</th>\n",
       "      <th>Paved Drive</th>\n",
       "      <th>Wood Deck SF</th>\n",
       "      <th>Open Porch SF</th>\n",
       "      <th>Enclosed Porch</th>\n",
       "      <th>3Ssn Porch</th>\n",
       "      <th>Screen Porch</th>\n",
       "      <th>Pool Area</th>\n",
       "      <th>Pool QC</th>\n",
       "      <th>Fence</th>\n",
       "      <th>Misc Feature</th>\n",
       "      <th>Misc Val</th>\n",
       "      <th>Mo Sold</th>\n",
       "      <th>Sale Type</th>\n",
       "      <th>Sale Condition</th>\n",
       "      <th>Lot Frontage_na</th>\n",
       "      <th>Mas Vnr Area_na</th>\n",
       "      <th>BsmtFin SF 1_na</th>\n",
       "      <th>BsmtFin SF 2_na</th>\n",
       "      <th>Bsmt Unf SF_na</th>\n",
       "      <th>Total Bsmt SF_na</th>\n",
       "      <th>Bsmt Full Bath_na</th>\n",
       "      <th>Bsmt Half Bath_na</th>\n",
       "      <th>Garage Yr Blt_na</th>\n",
       "      <th>Garage Cars_na</th>\n",
       "      <th>Garage Area_na</th>\n",
       "    </tr>\n",
       "  </thead>\n",
       "  <tbody>\n",
       "    <tr>\n",
       "      <th>0</th>\n",
       "      <td>1.000000</td>\n",
       "      <td>0.666667</td>\n",
       "      <td>0.566384</td>\n",
       "      <td>0.323632</td>\n",
       "      <td>1.0</td>\n",
       "      <td>0.5</td>\n",
       "      <td>0.333333</td>\n",
       "      <td>0.333333</td>\n",
       "      <td>1.0</td>\n",
       "      <td>0.25</td>\n",
       "      <td>0.0</td>\n",
       "      <td>0.761905</td>\n",
       "      <td>0.6</td>\n",
       "      <td>1.0</td>\n",
       "      <td>0.75</td>\n",
       "      <td>1.0</td>\n",
       "      <td>0.555556</td>\n",
       "      <td>0.500</td>\n",
       "      <td>0.148438</td>\n",
       "      <td>0.311475</td>\n",
       "      <td>0.5</td>\n",
       "      <td>0.0</td>\n",
       "      <td>0.7</td>\n",
       "      <td>0.7</td>\n",
       "      <td>0.666667</td>\n",
       "      <td>0.167500</td>\n",
       "      <td>0.666667</td>\n",
       "      <td>0.5</td>\n",
       "      <td>1.0</td>\n",
       "      <td>0.75</td>\n",
       "      <td>0.5</td>\n",
       "      <td>0.000000</td>\n",
       "      <td>1.0</td>\n",
       "      <td>0.147236</td>\n",
       "      <td>0.0</td>\n",
       "      <td>0.0</td>\n",
       "      <td>0.136986</td>\n",
       "      <td>0.188380</td>\n",
       "      <td>1.0</td>\n",
       "      <td>0.5</td>\n",
       "      <td>1.0</td>\n",
       "      <td>1.0</td>\n",
       "      <td>0.472465</td>\n",
       "      <td>0.433898</td>\n",
       "      <td>0.0</td>\n",
       "      <td>0.643585</td>\n",
       "      <td>0.000000</td>\n",
       "      <td>0.5</td>\n",
       "      <td>0.50</td>\n",
       "      <td>0.5</td>\n",
       "      <td>0.500</td>\n",
       "      <td>0.333333</td>\n",
       "      <td>0.50</td>\n",
       "      <td>0.500000</td>\n",
       "      <td>1.0</td>\n",
       "      <td>0.25</td>\n",
       "      <td>0.6</td>\n",
       "      <td>0.75</td>\n",
       "      <td>0.697452</td>\n",
       "      <td>0.0</td>\n",
       "      <td>0.50</td>\n",
       "      <td>0.350134</td>\n",
       "      <td>0.5</td>\n",
       "      <td>0.50</td>\n",
       "      <td>1.0</td>\n",
       "      <td>0.000000</td>\n",
       "      <td>0.307278</td>\n",
       "      <td>0.0</td>\n",
       "      <td>0.0</td>\n",
       "      <td>1.0</td>\n",
       "      <td>0.0</td>\n",
       "      <td>0.0</td>\n",
       "      <td>0.0</td>\n",
       "      <td>1.0</td>\n",
       "      <td>0.0</td>\n",
       "      <td>0.727273</td>\n",
       "      <td>0.666667</td>\n",
       "      <td>0.75</td>\n",
       "      <td>0.0</td>\n",
       "      <td>0.0</td>\n",
       "      <td>0.0</td>\n",
       "      <td>0.0</td>\n",
       "      <td>0.0</td>\n",
       "      <td>0.0</td>\n",
       "      <td>0.0</td>\n",
       "      <td>0.0</td>\n",
       "      <td>0.0</td>\n",
       "      <td>0.0</td>\n",
       "      <td>0.0</td>\n",
       "    </tr>\n",
       "    <tr>\n",
       "      <th>1</th>\n",
       "      <td>0.818182</td>\n",
       "      <td>0.666667</td>\n",
       "      <td>0.521833</td>\n",
       "      <td>0.344511</td>\n",
       "      <td>1.0</td>\n",
       "      <td>0.5</td>\n",
       "      <td>0.333333</td>\n",
       "      <td>0.333333</td>\n",
       "      <td>1.0</td>\n",
       "      <td>0.00</td>\n",
       "      <td>0.0</td>\n",
       "      <td>0.666667</td>\n",
       "      <td>0.6</td>\n",
       "      <td>1.0</td>\n",
       "      <td>0.75</td>\n",
       "      <td>0.6</td>\n",
       "      <td>0.666667</td>\n",
       "      <td>0.500</td>\n",
       "      <td>0.007812</td>\n",
       "      <td>0.016393</td>\n",
       "      <td>0.5</td>\n",
       "      <td>0.0</td>\n",
       "      <td>1.0</td>\n",
       "      <td>0.9</td>\n",
       "      <td>0.666667</td>\n",
       "      <td>0.150000</td>\n",
       "      <td>0.666667</td>\n",
       "      <td>0.5</td>\n",
       "      <td>1.0</td>\n",
       "      <td>0.75</td>\n",
       "      <td>0.5</td>\n",
       "      <td>0.666667</td>\n",
       "      <td>1.0</td>\n",
       "      <td>0.003544</td>\n",
       "      <td>0.0</td>\n",
       "      <td>0.0</td>\n",
       "      <td>0.682363</td>\n",
       "      <td>0.264157</td>\n",
       "      <td>1.0</td>\n",
       "      <td>1.0</td>\n",
       "      <td>1.0</td>\n",
       "      <td>1.0</td>\n",
       "      <td>0.596157</td>\n",
       "      <td>0.000000</td>\n",
       "      <td>0.0</td>\n",
       "      <td>0.557273</td>\n",
       "      <td>0.000000</td>\n",
       "      <td>0.0</td>\n",
       "      <td>0.50</td>\n",
       "      <td>0.0</td>\n",
       "      <td>0.375</td>\n",
       "      <td>0.333333</td>\n",
       "      <td>0.75</td>\n",
       "      <td>0.416667</td>\n",
       "      <td>1.0</td>\n",
       "      <td>0.00</td>\n",
       "      <td>0.0</td>\n",
       "      <td>0.75</td>\n",
       "      <td>0.640127</td>\n",
       "      <td>0.5</td>\n",
       "      <td>0.75</td>\n",
       "      <td>0.581317</td>\n",
       "      <td>0.5</td>\n",
       "      <td>0.50</td>\n",
       "      <td>1.0</td>\n",
       "      <td>0.101124</td>\n",
       "      <td>0.079515</td>\n",
       "      <td>0.0</td>\n",
       "      <td>0.0</td>\n",
       "      <td>0.0</td>\n",
       "      <td>0.0</td>\n",
       "      <td>0.0</td>\n",
       "      <td>0.0</td>\n",
       "      <td>1.0</td>\n",
       "      <td>0.0</td>\n",
       "      <td>0.545455</td>\n",
       "      <td>1.000000</td>\n",
       "      <td>1.00</td>\n",
       "      <td>0.0</td>\n",
       "      <td>0.0</td>\n",
       "      <td>0.0</td>\n",
       "      <td>0.0</td>\n",
       "      <td>0.0</td>\n",
       "      <td>0.0</td>\n",
       "      <td>0.0</td>\n",
       "      <td>0.0</td>\n",
       "      <td>0.0</td>\n",
       "      <td>0.0</td>\n",
       "      <td>0.0</td>\n",
       "    </tr>\n",
       "    <tr>\n",
       "      <th>2</th>\n",
       "      <td>0.818182</td>\n",
       "      <td>0.666667</td>\n",
       "      <td>0.440313</td>\n",
       "      <td>0.272448</td>\n",
       "      <td>1.0</td>\n",
       "      <td>0.5</td>\n",
       "      <td>0.000000</td>\n",
       "      <td>0.333333</td>\n",
       "      <td>1.0</td>\n",
       "      <td>0.00</td>\n",
       "      <td>0.0</td>\n",
       "      <td>0.380952</td>\n",
       "      <td>1.0</td>\n",
       "      <td>1.0</td>\n",
       "      <td>0.75</td>\n",
       "      <td>0.6</td>\n",
       "      <td>0.444444</td>\n",
       "      <td>0.500</td>\n",
       "      <td>0.351562</td>\n",
       "      <td>0.754098</td>\n",
       "      <td>0.5</td>\n",
       "      <td>0.0</td>\n",
       "      <td>0.2</td>\n",
       "      <td>0.2</td>\n",
       "      <td>0.333333</td>\n",
       "      <td>0.000000</td>\n",
       "      <td>0.333333</td>\n",
       "      <td>0.5</td>\n",
       "      <td>0.5</td>\n",
       "      <td>0.50</td>\n",
       "      <td>0.5</td>\n",
       "      <td>0.000000</td>\n",
       "      <td>0.0</td>\n",
       "      <td>0.000000</td>\n",
       "      <td>0.0</td>\n",
       "      <td>0.0</td>\n",
       "      <td>0.478168</td>\n",
       "      <td>0.182815</td>\n",
       "      <td>1.0</td>\n",
       "      <td>1.0</td>\n",
       "      <td>1.0</td>\n",
       "      <td>1.0</td>\n",
       "      <td>0.456868</td>\n",
       "      <td>0.000000</td>\n",
       "      <td>0.0</td>\n",
       "      <td>0.427069</td>\n",
       "      <td>0.000000</td>\n",
       "      <td>0.0</td>\n",
       "      <td>0.25</td>\n",
       "      <td>0.0</td>\n",
       "      <td>0.375</td>\n",
       "      <td>0.333333</td>\n",
       "      <td>0.50</td>\n",
       "      <td>0.333333</td>\n",
       "      <td>1.0</td>\n",
       "      <td>0.00</td>\n",
       "      <td>0.0</td>\n",
       "      <td>0.75</td>\n",
       "      <td>0.780255</td>\n",
       "      <td>0.0</td>\n",
       "      <td>0.25</td>\n",
       "      <td>0.177419</td>\n",
       "      <td>0.5</td>\n",
       "      <td>0.50</td>\n",
       "      <td>1.0</td>\n",
       "      <td>0.000000</td>\n",
       "      <td>0.000000</td>\n",
       "      <td>0.0</td>\n",
       "      <td>0.0</td>\n",
       "      <td>0.0</td>\n",
       "      <td>0.0</td>\n",
       "      <td>0.0</td>\n",
       "      <td>0.0</td>\n",
       "      <td>1.0</td>\n",
       "      <td>0.0</td>\n",
       "      <td>0.363636</td>\n",
       "      <td>0.000000</td>\n",
       "      <td>0.75</td>\n",
       "      <td>0.0</td>\n",
       "      <td>0.0</td>\n",
       "      <td>0.0</td>\n",
       "      <td>0.0</td>\n",
       "      <td>0.0</td>\n",
       "      <td>0.0</td>\n",
       "      <td>0.0</td>\n",
       "      <td>0.0</td>\n",
       "      <td>0.0</td>\n",
       "      <td>0.0</td>\n",
       "      <td>0.0</td>\n",
       "    </tr>\n",
       "    <tr>\n",
       "      <th>3</th>\n",
       "      <td>0.818182</td>\n",
       "      <td>0.666667</td>\n",
       "      <td>0.441318</td>\n",
       "      <td>0.406690</td>\n",
       "      <td>1.0</td>\n",
       "      <td>0.5</td>\n",
       "      <td>0.333333</td>\n",
       "      <td>0.333333</td>\n",
       "      <td>1.0</td>\n",
       "      <td>0.25</td>\n",
       "      <td>0.0</td>\n",
       "      <td>0.857143</td>\n",
       "      <td>0.6</td>\n",
       "      <td>1.0</td>\n",
       "      <td>0.75</td>\n",
       "      <td>0.6</td>\n",
       "      <td>0.777778</td>\n",
       "      <td>0.625</td>\n",
       "      <td>0.250000</td>\n",
       "      <td>0.540984</td>\n",
       "      <td>1.0</td>\n",
       "      <td>1.0</td>\n",
       "      <td>0.4</td>\n",
       "      <td>0.5</td>\n",
       "      <td>0.333333</td>\n",
       "      <td>0.000000</td>\n",
       "      <td>0.666667</td>\n",
       "      <td>0.5</td>\n",
       "      <td>0.5</td>\n",
       "      <td>0.75</td>\n",
       "      <td>0.5</td>\n",
       "      <td>0.666667</td>\n",
       "      <td>0.8</td>\n",
       "      <td>0.206414</td>\n",
       "      <td>0.2</td>\n",
       "      <td>1.0</td>\n",
       "      <td>0.000000</td>\n",
       "      <td>0.256137</td>\n",
       "      <td>1.0</td>\n",
       "      <td>0.5</td>\n",
       "      <td>1.0</td>\n",
       "      <td>1.0</td>\n",
       "      <td>0.817656</td>\n",
       "      <td>0.000000</td>\n",
       "      <td>0.0</td>\n",
       "      <td>0.764325</td>\n",
       "      <td>0.333333</td>\n",
       "      <td>0.0</td>\n",
       "      <td>0.50</td>\n",
       "      <td>0.0</td>\n",
       "      <td>0.250</td>\n",
       "      <td>0.333333</td>\n",
       "      <td>0.75</td>\n",
       "      <td>0.666667</td>\n",
       "      <td>1.0</td>\n",
       "      <td>0.25</td>\n",
       "      <td>0.8</td>\n",
       "      <td>0.75</td>\n",
       "      <td>0.738854</td>\n",
       "      <td>1.0</td>\n",
       "      <td>0.50</td>\n",
       "      <td>0.446909</td>\n",
       "      <td>0.5</td>\n",
       "      <td>0.50</td>\n",
       "      <td>1.0</td>\n",
       "      <td>0.000000</td>\n",
       "      <td>0.097035</td>\n",
       "      <td>1.0</td>\n",
       "      <td>0.0</td>\n",
       "      <td>0.0</td>\n",
       "      <td>0.0</td>\n",
       "      <td>0.0</td>\n",
       "      <td>0.0</td>\n",
       "      <td>1.0</td>\n",
       "      <td>0.0</td>\n",
       "      <td>0.363636</td>\n",
       "      <td>0.000000</td>\n",
       "      <td>0.00</td>\n",
       "      <td>1.0</td>\n",
       "      <td>0.0</td>\n",
       "      <td>0.0</td>\n",
       "      <td>0.0</td>\n",
       "      <td>0.0</td>\n",
       "      <td>0.0</td>\n",
       "      <td>0.0</td>\n",
       "      <td>0.0</td>\n",
       "      <td>0.0</td>\n",
       "      <td>0.0</td>\n",
       "      <td>0.0</td>\n",
       "    </tr>\n",
       "    <tr>\n",
       "      <th>4</th>\n",
       "      <td>0.454545</td>\n",
       "      <td>0.666667</td>\n",
       "      <td>0.476078</td>\n",
       "      <td>0.313207</td>\n",
       "      <td>1.0</td>\n",
       "      <td>0.5</td>\n",
       "      <td>0.000000</td>\n",
       "      <td>0.333333</td>\n",
       "      <td>1.0</td>\n",
       "      <td>0.00</td>\n",
       "      <td>0.0</td>\n",
       "      <td>0.380952</td>\n",
       "      <td>0.6</td>\n",
       "      <td>1.0</td>\n",
       "      <td>0.50</td>\n",
       "      <td>0.6</td>\n",
       "      <td>0.444444</td>\n",
       "      <td>0.375</td>\n",
       "      <td>0.398438</td>\n",
       "      <td>0.852459</td>\n",
       "      <td>1.0</td>\n",
       "      <td>0.0</td>\n",
       "      <td>0.2</td>\n",
       "      <td>0.2</td>\n",
       "      <td>0.666667</td>\n",
       "      <td>0.410625</td>\n",
       "      <td>0.333333</td>\n",
       "      <td>0.5</td>\n",
       "      <td>1.0</td>\n",
       "      <td>0.50</td>\n",
       "      <td>0.5</td>\n",
       "      <td>0.000000</td>\n",
       "      <td>0.0</td>\n",
       "      <td>0.000000</td>\n",
       "      <td>0.0</td>\n",
       "      <td>0.0</td>\n",
       "      <td>0.798801</td>\n",
       "      <td>0.305401</td>\n",
       "      <td>1.0</td>\n",
       "      <td>1.0</td>\n",
       "      <td>1.0</td>\n",
       "      <td>1.0</td>\n",
       "      <td>0.651061</td>\n",
       "      <td>0.000000</td>\n",
       "      <td>0.0</td>\n",
       "      <td>0.608596</td>\n",
       "      <td>0.000000</td>\n",
       "      <td>0.0</td>\n",
       "      <td>0.50</td>\n",
       "      <td>0.0</td>\n",
       "      <td>0.500</td>\n",
       "      <td>0.666667</td>\n",
       "      <td>0.50</td>\n",
       "      <td>0.500000</td>\n",
       "      <td>1.0</td>\n",
       "      <td>0.00</td>\n",
       "      <td>0.0</td>\n",
       "      <td>0.00</td>\n",
       "      <td>0.799363</td>\n",
       "      <td>0.0</td>\n",
       "      <td>0.50</td>\n",
       "      <td>0.332661</td>\n",
       "      <td>0.5</td>\n",
       "      <td>0.25</td>\n",
       "      <td>1.0</td>\n",
       "      <td>0.000000</td>\n",
       "      <td>0.000000</td>\n",
       "      <td>0.0</td>\n",
       "      <td>0.0</td>\n",
       "      <td>0.0</td>\n",
       "      <td>0.0</td>\n",
       "      <td>0.0</td>\n",
       "      <td>0.0</td>\n",
       "      <td>1.0</td>\n",
       "      <td>0.0</td>\n",
       "      <td>1.000000</td>\n",
       "      <td>0.666667</td>\n",
       "      <td>0.75</td>\n",
       "      <td>0.0</td>\n",
       "      <td>0.0</td>\n",
       "      <td>0.0</td>\n",
       "      <td>0.0</td>\n",
       "      <td>0.0</td>\n",
       "      <td>0.0</td>\n",
       "      <td>0.0</td>\n",
       "      <td>0.0</td>\n",
       "      <td>0.0</td>\n",
       "      <td>0.0</td>\n",
       "      <td>0.0</td>\n",
       "    </tr>\n",
       "  </tbody>\n",
       "</table>\n",
       "</div>"
      ],
      "text/plain": [
       "   MS SubClass  MS Zoning  Lot Frontage  Lot Area  Street  Alley  Lot Shape  \\\n",
       "0     1.000000   0.666667      0.566384  0.323632     1.0    0.5   0.333333   \n",
       "1     0.818182   0.666667      0.521833  0.344511     1.0    0.5   0.333333   \n",
       "2     0.818182   0.666667      0.440313  0.272448     1.0    0.5   0.000000   \n",
       "3     0.818182   0.666667      0.441318  0.406690     1.0    0.5   0.333333   \n",
       "4     0.454545   0.666667      0.476078  0.313207     1.0    0.5   0.000000   \n",
       "\n",
       "   Land Contour  Utilities  Lot Config  Land Slope  Neighborhood  Condition 1  \\\n",
       "0      0.333333        1.0        0.25         0.0      0.761905          0.6   \n",
       "1      0.333333        1.0        0.00         0.0      0.666667          0.6   \n",
       "2      0.333333        1.0        0.00         0.0      0.380952          1.0   \n",
       "3      0.333333        1.0        0.25         0.0      0.857143          0.6   \n",
       "4      0.333333        1.0        0.00         0.0      0.380952          0.6   \n",
       "\n",
       "   Condition 2  Bldg Type  House Style  Overall Qual  Overall Cond  \\\n",
       "0          1.0       0.75          1.0      0.555556         0.500   \n",
       "1          1.0       0.75          0.6      0.666667         0.500   \n",
       "2          1.0       0.75          0.6      0.444444         0.500   \n",
       "3          1.0       0.75          0.6      0.777778         0.625   \n",
       "4          1.0       0.50          0.6      0.444444         0.375   \n",
       "\n",
       "   Year Built  Year Remod/Add  Roof Style  Roof Matl  Exterior 1st  \\\n",
       "0    0.148438        0.311475         0.5        0.0           0.7   \n",
       "1    0.007812        0.016393         0.5        0.0           1.0   \n",
       "2    0.351562        0.754098         0.5        0.0           0.2   \n",
       "3    0.250000        0.540984         1.0        1.0           0.4   \n",
       "4    0.398438        0.852459         1.0        0.0           0.2   \n",
       "\n",
       "   Exterior 2nd  Mas Vnr Type  Mas Vnr Area  Exter Qual  Exter Cond  \\\n",
       "0           0.7      0.666667      0.167500    0.666667         0.5   \n",
       "1           0.9      0.666667      0.150000    0.666667         0.5   \n",
       "2           0.2      0.333333      0.000000    0.333333         0.5   \n",
       "3           0.5      0.333333      0.000000    0.666667         0.5   \n",
       "4           0.2      0.666667      0.410625    0.333333         0.5   \n",
       "\n",
       "   Foundation  Bsmt Qual  Bsmt Cond  Bsmt Exposure  BsmtFin Type 1  \\\n",
       "0         1.0       0.75        0.5       0.000000             1.0   \n",
       "1         1.0       0.75        0.5       0.666667             1.0   \n",
       "2         0.5       0.50        0.5       0.000000             0.0   \n",
       "3         0.5       0.75        0.5       0.666667             0.8   \n",
       "4         1.0       0.50        0.5       0.000000             0.0   \n",
       "\n",
       "   BsmtFin SF 1  BsmtFin Type 2  BsmtFin SF 2  Bsmt Unf SF  Total Bsmt SF  \\\n",
       "0      0.147236             0.0           0.0     0.136986       0.188380   \n",
       "1      0.003544             0.0           0.0     0.682363       0.264157   \n",
       "2      0.000000             0.0           0.0     0.478168       0.182815   \n",
       "3      0.206414             0.2           1.0     0.000000       0.256137   \n",
       "4      0.000000             0.0           0.0     0.798801       0.305401   \n",
       "\n",
       "   Heating  Heating QC  Central Air  Electrical  1st Flr SF  2nd Flr SF  \\\n",
       "0      1.0         0.5          1.0         1.0    0.472465    0.433898   \n",
       "1      1.0         1.0          1.0         1.0    0.596157    0.000000   \n",
       "2      1.0         1.0          1.0         1.0    0.456868    0.000000   \n",
       "3      1.0         0.5          1.0         1.0    0.817656    0.000000   \n",
       "4      1.0         1.0          1.0         1.0    0.651061    0.000000   \n",
       "\n",
       "   Low Qual Fin SF  Gr Liv Area  Bsmt Full Bath  Bsmt Half Bath  Full Bath  \\\n",
       "0              0.0     0.643585        0.000000             0.5       0.50   \n",
       "1              0.0     0.557273        0.000000             0.0       0.50   \n",
       "2              0.0     0.427069        0.000000             0.0       0.25   \n",
       "3              0.0     0.764325        0.333333             0.0       0.50   \n",
       "4              0.0     0.608596        0.000000             0.0       0.50   \n",
       "\n",
       "   Half Bath  Bedroom AbvGr  Kitchen AbvGr  Kitchen Qual  TotRms AbvGrd  \\\n",
       "0        0.5          0.500       0.333333          0.50       0.500000   \n",
       "1        0.0          0.375       0.333333          0.75       0.416667   \n",
       "2        0.0          0.375       0.333333          0.50       0.333333   \n",
       "3        0.0          0.250       0.333333          0.75       0.666667   \n",
       "4        0.0          0.500       0.666667          0.50       0.500000   \n",
       "\n",
       "   Functional  Fireplaces  Fireplace Qu  Garage Type  Garage Yr Blt  \\\n",
       "0         1.0        0.25           0.6         0.75       0.697452   \n",
       "1         1.0        0.00           0.0         0.75       0.640127   \n",
       "2         1.0        0.00           0.0         0.75       0.780255   \n",
       "3         1.0        0.25           0.8         0.75       0.738854   \n",
       "4         1.0        0.00           0.0         0.00       0.799363   \n",
       "\n",
       "   Garage Finish  Garage Cars  Garage Area  Garage Qual  Garage Cond  \\\n",
       "0            0.0         0.50     0.350134          0.5         0.50   \n",
       "1            0.5         0.75     0.581317          0.5         0.50   \n",
       "2            0.0         0.25     0.177419          0.5         0.50   \n",
       "3            1.0         0.50     0.446909          0.5         0.50   \n",
       "4            0.0         0.50     0.332661          0.5         0.25   \n",
       "\n",
       "   Paved Drive  Wood Deck SF  Open Porch SF  Enclosed Porch  3Ssn Porch  \\\n",
       "0          1.0      0.000000       0.307278             0.0         0.0   \n",
       "1          1.0      0.101124       0.079515             0.0         0.0   \n",
       "2          1.0      0.000000       0.000000             0.0         0.0   \n",
       "3          1.0      0.000000       0.097035             1.0         0.0   \n",
       "4          1.0      0.000000       0.000000             0.0         0.0   \n",
       "\n",
       "   Screen Porch  Pool Area  Pool QC  Fence  Misc Feature  Misc Val   Mo Sold  \\\n",
       "0           1.0        0.0      0.0    0.0           1.0       0.0  0.727273   \n",
       "1           0.0        0.0      0.0    0.0           1.0       0.0  0.545455   \n",
       "2           0.0        0.0      0.0    0.0           1.0       0.0  0.363636   \n",
       "3           0.0        0.0      0.0    0.0           1.0       0.0  0.363636   \n",
       "4           0.0        0.0      0.0    0.0           1.0       0.0  1.000000   \n",
       "\n",
       "   Sale Type  Sale Condition  Lot Frontage_na  Mas Vnr Area_na  \\\n",
       "0   0.666667            0.75              0.0              0.0   \n",
       "1   1.000000            1.00              0.0              0.0   \n",
       "2   0.000000            0.75              0.0              0.0   \n",
       "3   0.000000            0.00              1.0              0.0   \n",
       "4   0.666667            0.75              0.0              0.0   \n",
       "\n",
       "   BsmtFin SF 1_na  BsmtFin SF 2_na  Bsmt Unf SF_na  Total Bsmt SF_na  \\\n",
       "0              0.0              0.0             0.0               0.0   \n",
       "1              0.0              0.0             0.0               0.0   \n",
       "2              0.0              0.0             0.0               0.0   \n",
       "3              0.0              0.0             0.0               0.0   \n",
       "4              0.0              0.0             0.0               0.0   \n",
       "\n",
       "   Bsmt Full Bath_na  Bsmt Half Bath_na  Garage Yr Blt_na  Garage Cars_na  \\\n",
       "0                0.0                0.0               0.0             0.0   \n",
       "1                0.0                0.0               0.0             0.0   \n",
       "2                0.0                0.0               0.0             0.0   \n",
       "3                0.0                0.0               0.0             0.0   \n",
       "4                0.0                0.0               0.0             0.0   \n",
       "\n",
       "   Garage Area_na  \n",
       "0             0.0  \n",
       "1             0.0  \n",
       "2             0.0  \n",
       "3             0.0  \n",
       "4             0.0  "
      ]
     },
     "execution_count": 54,
     "metadata": {},
     "output_type": "execute_result"
    }
   ],
   "source": [
    "X_train.head()"
   ]
  },
  {
   "cell_type": "code",
   "execution_count": null,
   "id": "6da2e7bc",
   "metadata": {},
   "outputs": [],
   "source": []
  },
  {
   "cell_type": "code",
   "execution_count": null,
   "id": "38a422c9",
   "metadata": {},
   "outputs": [],
   "source": []
  },
  {
   "cell_type": "code",
   "execution_count": null,
   "id": "02064628",
   "metadata": {},
   "outputs": [],
   "source": []
  },
  {
   "cell_type": "code",
   "execution_count": null,
   "id": "283db9a0",
   "metadata": {},
   "outputs": [],
   "source": []
  },
  {
   "cell_type": "code",
   "execution_count": null,
   "id": "ca313ace",
   "metadata": {},
   "outputs": [],
   "source": []
  },
  {
   "cell_type": "code",
   "execution_count": null,
   "id": "17099029",
   "metadata": {},
   "outputs": [],
   "source": []
  },
  {
   "cell_type": "code",
   "execution_count": null,
   "id": "54576d17",
   "metadata": {},
   "outputs": [],
   "source": []
  },
  {
   "cell_type": "code",
   "execution_count": null,
   "id": "37cc7b09",
   "metadata": {},
   "outputs": [],
   "source": []
  },
  {
   "cell_type": "code",
   "execution_count": null,
   "id": "93dfe646",
   "metadata": {},
   "outputs": [],
   "source": []
  },
  {
   "cell_type": "code",
   "execution_count": null,
   "id": "74648685",
   "metadata": {},
   "outputs": [],
   "source": []
  }
 ],
 "metadata": {
  "kernelspec": {
   "display_name": "Python 3",
   "language": "python",
   "name": "python3"
  },
  "language_info": {
   "codemirror_mode": {
    "name": "ipython",
    "version": 3
   },
   "file_extension": ".py",
   "mimetype": "text/x-python",
   "name": "python",
   "nbconvert_exporter": "python",
   "pygments_lexer": "ipython3",
   "version": "3.8.8"
  }
 },
 "nbformat": 4,
 "nbformat_minor": 5
}
